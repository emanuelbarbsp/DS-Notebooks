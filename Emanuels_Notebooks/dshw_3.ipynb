{
 "cells": [
  {
   "metadata": {
    "collapsed": true,
    "ExecuteTime": {
     "end_time": "2024-10-12T20:00:16.359696Z",
     "start_time": "2024-10-12T20:00:16.227857Z"
    }
   },
   "cell_type": "code",
   "source": [
    "\n",
    "#Start with importing the usual stuff\n",
    "\n",
    "import numpy as np\n",
    "import pandas as pd\n",
    "import matplotlib.pyplot as plt\n",
    "\n",
    "from matplotlib.pyplot import subplots\n",
    "import seaborn as sns\n",
    "\n",
    "import statsmodels.api as sm\n",
    "\n",
    "from sklearn.model_selection import train_test_split\n",
    "from sklearn.metrics import confusion_matrix,classification_report\n",
    "from sklearn.discriminant_analysis import LinearDiscriminantAnalysis\n",
    "from sklearn.neighbors import KNeighborsClassifier\n",
    "from sklearn import svm, datasets\n",
    "from sklearn import metrics\n",
    "\n",
    "pd.options.mode.copy_on_write = True # This contains some functions written by the authors of the textbook (ISLP)\n",
    "# we'll be adapting most of the this demo from their material\n",
    "\n",
    "from ISLP import load_data\n",
    "from ISLP.models import (ModelSpec as MS,\n",
    "                         summarize,\n",
    "                         poly)\n"
   ],
   "id": "initial_id",
   "outputs": [],
   "execution_count": 179
  },
  {
   "metadata": {
    "ExecuteTime": {
     "end_time": "2024-10-10T20:27:48.807540Z",
     "start_time": "2024-10-10T20:27:48.803136Z"
    }
   },
   "cell_type": "code",
   "outputs": [],
   "execution_count": 8,
   "source": [
    "def abline(ax, b, m, *args, **kwargs):\n",
    "    \"Add a line with slope m and intercept b to ax\"\n",
    "    xlim = ax.get_xlim()\n",
    "    ylim = [m * xlim[0] + b, m * xlim[1] + b]\n",
    "    ax.plot(xlim, ylim, *args, **kwargs)\n",
    "    \n",
    "def predict(X, model):\n",
    "    # the built-in get_prediction tool returns an array, so we need to convert to a dataframe\n",
    "    predictions_df = pd.DataFrame(model.get_prediction(X).predicted, columns=['y_hat'], index=X.index)\n",
    "    return predictions_df['y_hat']\n",
    "\n",
    "def mse(y, y_hat):\n",
    "    # calculate the residual error for each individual record\n",
    "    resid = y - y_hat\n",
    "    # square the residual (hence \"squared error\")\n",
    "    sq_resid = resid**2\n",
    "    # calculate the sum of squared errors\n",
    "    SSR = sum(sq_resid)\n",
    "    # divide by the number of records to get the mean squared error\n",
    "    MSE = SSR / y.shape[0]\n",
    "    return MSE"
   ],
   "id": "9602224a349e4b55"
  },
  {
   "metadata": {},
   "cell_type": "markdown",
   "source": "## Auto data Q1",
   "id": "9e8c344f4dc0c542"
  },
  {
   "metadata": {
    "ExecuteTime": {
     "end_time": "2024-10-10T20:25:39.758359Z",
     "start_time": "2024-10-10T20:25:39.680917Z"
    }
   },
   "cell_type": "code",
   "outputs": [
    {
     "data": {
      "text/plain": [
       "      mpg  cylinders  displacement  horsepower  weight  acceleration  year  \\\n",
       "0    18.0          8         307.0         130    3504          12.0    70   \n",
       "1    15.0          8         350.0         165    3693          11.5    70   \n",
       "2    18.0          8         318.0         150    3436          11.0    70   \n",
       "3    16.0          8         304.0         150    3433          12.0    70   \n",
       "4    17.0          8         302.0         140    3449          10.5    70   \n",
       "..    ...        ...           ...         ...     ...           ...   ...   \n",
       "387  27.0          4         140.0          86    2790          15.6    82   \n",
       "388  44.0          4          97.0          52    2130          24.6    82   \n",
       "389  32.0          4         135.0          84    2295          11.6    82   \n",
       "390  28.0          4         120.0          79    2625          18.6    82   \n",
       "391  31.0          4         119.0          82    2720          19.4    82   \n",
       "\n",
       "     origin                       name  \n",
       "0         1  chevrolet chevelle malibu  \n",
       "1         1          buick skylark 320  \n",
       "2         1         plymouth satellite  \n",
       "3         1              amc rebel sst  \n",
       "4         1                ford torino  \n",
       "..      ...                        ...  \n",
       "387       1            ford mustang gl  \n",
       "388       2                  vw pickup  \n",
       "389       1              dodge rampage  \n",
       "390       1                ford ranger  \n",
       "391       1                 chevy s-10  \n",
       "\n",
       "[392 rows x 9 columns]"
      ],
      "text/html": [
       "<div>\n",
       "<style scoped>\n",
       "    .dataframe tbody tr th:only-of-type {\n",
       "        vertical-align: middle;\n",
       "    }\n",
       "\n",
       "    .dataframe tbody tr th {\n",
       "        vertical-align: top;\n",
       "    }\n",
       "\n",
       "    .dataframe thead th {\n",
       "        text-align: right;\n",
       "    }\n",
       "</style>\n",
       "<table border=\"1\" class=\"dataframe\">\n",
       "  <thead>\n",
       "    <tr style=\"text-align: right;\">\n",
       "      <th></th>\n",
       "      <th>mpg</th>\n",
       "      <th>cylinders</th>\n",
       "      <th>displacement</th>\n",
       "      <th>horsepower</th>\n",
       "      <th>weight</th>\n",
       "      <th>acceleration</th>\n",
       "      <th>year</th>\n",
       "      <th>origin</th>\n",
       "      <th>name</th>\n",
       "    </tr>\n",
       "  </thead>\n",
       "  <tbody>\n",
       "    <tr>\n",
       "      <th>0</th>\n",
       "      <td>18.0</td>\n",
       "      <td>8</td>\n",
       "      <td>307.0</td>\n",
       "      <td>130</td>\n",
       "      <td>3504</td>\n",
       "      <td>12.0</td>\n",
       "      <td>70</td>\n",
       "      <td>1</td>\n",
       "      <td>chevrolet chevelle malibu</td>\n",
       "    </tr>\n",
       "    <tr>\n",
       "      <th>1</th>\n",
       "      <td>15.0</td>\n",
       "      <td>8</td>\n",
       "      <td>350.0</td>\n",
       "      <td>165</td>\n",
       "      <td>3693</td>\n",
       "      <td>11.5</td>\n",
       "      <td>70</td>\n",
       "      <td>1</td>\n",
       "      <td>buick skylark 320</td>\n",
       "    </tr>\n",
       "    <tr>\n",
       "      <th>2</th>\n",
       "      <td>18.0</td>\n",
       "      <td>8</td>\n",
       "      <td>318.0</td>\n",
       "      <td>150</td>\n",
       "      <td>3436</td>\n",
       "      <td>11.0</td>\n",
       "      <td>70</td>\n",
       "      <td>1</td>\n",
       "      <td>plymouth satellite</td>\n",
       "    </tr>\n",
       "    <tr>\n",
       "      <th>3</th>\n",
       "      <td>16.0</td>\n",
       "      <td>8</td>\n",
       "      <td>304.0</td>\n",
       "      <td>150</td>\n",
       "      <td>3433</td>\n",
       "      <td>12.0</td>\n",
       "      <td>70</td>\n",
       "      <td>1</td>\n",
       "      <td>amc rebel sst</td>\n",
       "    </tr>\n",
       "    <tr>\n",
       "      <th>4</th>\n",
       "      <td>17.0</td>\n",
       "      <td>8</td>\n",
       "      <td>302.0</td>\n",
       "      <td>140</td>\n",
       "      <td>3449</td>\n",
       "      <td>10.5</td>\n",
       "      <td>70</td>\n",
       "      <td>1</td>\n",
       "      <td>ford torino</td>\n",
       "    </tr>\n",
       "    <tr>\n",
       "      <th>...</th>\n",
       "      <td>...</td>\n",
       "      <td>...</td>\n",
       "      <td>...</td>\n",
       "      <td>...</td>\n",
       "      <td>...</td>\n",
       "      <td>...</td>\n",
       "      <td>...</td>\n",
       "      <td>...</td>\n",
       "      <td>...</td>\n",
       "    </tr>\n",
       "    <tr>\n",
       "      <th>387</th>\n",
       "      <td>27.0</td>\n",
       "      <td>4</td>\n",
       "      <td>140.0</td>\n",
       "      <td>86</td>\n",
       "      <td>2790</td>\n",
       "      <td>15.6</td>\n",
       "      <td>82</td>\n",
       "      <td>1</td>\n",
       "      <td>ford mustang gl</td>\n",
       "    </tr>\n",
       "    <tr>\n",
       "      <th>388</th>\n",
       "      <td>44.0</td>\n",
       "      <td>4</td>\n",
       "      <td>97.0</td>\n",
       "      <td>52</td>\n",
       "      <td>2130</td>\n",
       "      <td>24.6</td>\n",
       "      <td>82</td>\n",
       "      <td>2</td>\n",
       "      <td>vw pickup</td>\n",
       "    </tr>\n",
       "    <tr>\n",
       "      <th>389</th>\n",
       "      <td>32.0</td>\n",
       "      <td>4</td>\n",
       "      <td>135.0</td>\n",
       "      <td>84</td>\n",
       "      <td>2295</td>\n",
       "      <td>11.6</td>\n",
       "      <td>82</td>\n",
       "      <td>1</td>\n",
       "      <td>dodge rampage</td>\n",
       "    </tr>\n",
       "    <tr>\n",
       "      <th>390</th>\n",
       "      <td>28.0</td>\n",
       "      <td>4</td>\n",
       "      <td>120.0</td>\n",
       "      <td>79</td>\n",
       "      <td>2625</td>\n",
       "      <td>18.6</td>\n",
       "      <td>82</td>\n",
       "      <td>1</td>\n",
       "      <td>ford ranger</td>\n",
       "    </tr>\n",
       "    <tr>\n",
       "      <th>391</th>\n",
       "      <td>31.0</td>\n",
       "      <td>4</td>\n",
       "      <td>119.0</td>\n",
       "      <td>82</td>\n",
       "      <td>2720</td>\n",
       "      <td>19.4</td>\n",
       "      <td>82</td>\n",
       "      <td>1</td>\n",
       "      <td>chevy s-10</td>\n",
       "    </tr>\n",
       "  </tbody>\n",
       "</table>\n",
       "<p>392 rows × 9 columns</p>\n",
       "</div>"
      ]
     },
     "execution_count": 3,
     "metadata": {},
     "output_type": "execute_result"
    }
   ],
   "execution_count": 3,
   "source": [
    "auto = load_data(\"auto\")\n",
    "auto"
   ],
   "id": "59e6c2125816942"
  },
  {
   "metadata": {
    "ExecuteTime": {
     "end_time": "2024-10-12T18:41:04.992552Z",
     "start_time": "2024-10-12T18:41:04.982225Z"
    }
   },
   "cell_type": "code",
   "source": [
    "x_train = auto.drop(columns = ['mpg', 'name'])\n",
    "y_train = auto['mpg']\n",
    "\n",
    "x_train['intercept'] = np.ones(auto.shape[0])"
   ],
   "id": "f49d001da5ead14e",
   "outputs": [],
   "execution_count": 138
  },
  {
   "metadata": {
    "ExecuteTime": {
     "end_time": "2024-10-12T18:41:06.313186Z",
     "start_time": "2024-10-12T18:41:06.303413Z"
    }
   },
   "cell_type": "code",
   "source": "#x_train, x_test, y_train, y_test = train_test_split(auto_x, auto_y, test_size=0.25, random_state=314, shuffle=True)",
   "id": "cccf3fe957944c2",
   "outputs": [],
   "execution_count": 139
  },
  {
   "metadata": {
    "ExecuteTime": {
     "end_time": "2024-10-12T18:41:07.076524Z",
     "start_time": "2024-10-12T18:41:07.045510Z"
    }
   },
   "cell_type": "code",
   "source": [
    "results_model_all = sm.OLS(y_train, x_train).fit()\n",
    "summarize(results_model_all)"
   ],
   "id": "b4cd67ac1a704579",
   "outputs": [
    {
     "data": {
      "text/plain": [
       "                 coef  std err       t  P>|t|\n",
       "cylinders     -0.4934    0.323  -1.526  0.128\n",
       "displacement   0.0199    0.008   2.647  0.008\n",
       "horsepower    -0.0170    0.014  -1.230  0.220\n",
       "weight        -0.0065    0.001  -9.929  0.000\n",
       "acceleration   0.0806    0.099   0.815  0.415\n",
       "year           0.7508    0.051  14.729  0.000\n",
       "origin         1.4261    0.278   5.127  0.000\n",
       "intercept    -17.2184    4.644  -3.707  0.000"
      ],
      "text/html": [
       "<div>\n",
       "<style scoped>\n",
       "    .dataframe tbody tr th:only-of-type {\n",
       "        vertical-align: middle;\n",
       "    }\n",
       "\n",
       "    .dataframe tbody tr th {\n",
       "        vertical-align: top;\n",
       "    }\n",
       "\n",
       "    .dataframe thead th {\n",
       "        text-align: right;\n",
       "    }\n",
       "</style>\n",
       "<table border=\"1\" class=\"dataframe\">\n",
       "  <thead>\n",
       "    <tr style=\"text-align: right;\">\n",
       "      <th></th>\n",
       "      <th>coef</th>\n",
       "      <th>std err</th>\n",
       "      <th>t</th>\n",
       "      <th>P&gt;|t|</th>\n",
       "    </tr>\n",
       "  </thead>\n",
       "  <tbody>\n",
       "    <tr>\n",
       "      <th>cylinders</th>\n",
       "      <td>-0.4934</td>\n",
       "      <td>0.323</td>\n",
       "      <td>-1.526</td>\n",
       "      <td>0.128</td>\n",
       "    </tr>\n",
       "    <tr>\n",
       "      <th>displacement</th>\n",
       "      <td>0.0199</td>\n",
       "      <td>0.008</td>\n",
       "      <td>2.647</td>\n",
       "      <td>0.008</td>\n",
       "    </tr>\n",
       "    <tr>\n",
       "      <th>horsepower</th>\n",
       "      <td>-0.0170</td>\n",
       "      <td>0.014</td>\n",
       "      <td>-1.230</td>\n",
       "      <td>0.220</td>\n",
       "    </tr>\n",
       "    <tr>\n",
       "      <th>weight</th>\n",
       "      <td>-0.0065</td>\n",
       "      <td>0.001</td>\n",
       "      <td>-9.929</td>\n",
       "      <td>0.000</td>\n",
       "    </tr>\n",
       "    <tr>\n",
       "      <th>acceleration</th>\n",
       "      <td>0.0806</td>\n",
       "      <td>0.099</td>\n",
       "      <td>0.815</td>\n",
       "      <td>0.415</td>\n",
       "    </tr>\n",
       "    <tr>\n",
       "      <th>year</th>\n",
       "      <td>0.7508</td>\n",
       "      <td>0.051</td>\n",
       "      <td>14.729</td>\n",
       "      <td>0.000</td>\n",
       "    </tr>\n",
       "    <tr>\n",
       "      <th>origin</th>\n",
       "      <td>1.4261</td>\n",
       "      <td>0.278</td>\n",
       "      <td>5.127</td>\n",
       "      <td>0.000</td>\n",
       "    </tr>\n",
       "    <tr>\n",
       "      <th>intercept</th>\n",
       "      <td>-17.2184</td>\n",
       "      <td>4.644</td>\n",
       "      <td>-3.707</td>\n",
       "      <td>0.000</td>\n",
       "    </tr>\n",
       "  </tbody>\n",
       "</table>\n",
       "</div>"
      ]
     },
     "execution_count": 140,
     "metadata": {},
     "output_type": "execute_result"
    }
   ],
   "execution_count": 140
  },
  {
   "metadata": {
    "ExecuteTime": {
     "end_time": "2024-10-12T18:41:10.394663Z",
     "start_time": "2024-10-12T18:41:10.241246Z"
    }
   },
   "cell_type": "code",
   "source": [
    "predict_all_train = predict(x_train, results_model_all)\n",
    "predict_all_test = predict(x_test, results_model_all)\n",
    "\n",
    "ax = subplots(figsize=(8,8))[1]\n",
    "ax.scatter(predict_all_train, y_train - predict_all_train)\n",
    "ax.set_xlabel('Fitted value')\n",
    "ax.set_ylabel('Residual')\n",
    "ax.axhline(0, c='k', ls='--');"
   ],
   "id": "b2600dcffc28747a",
   "outputs": [
    {
     "data": {
      "text/plain": [
       "<Figure size 800x800 with 1 Axes>"
      ],
      "image/png": "[encoded data removed]"
     },
     "metadata": {},
     "output_type": "display_data"
    }
   ],
   "execution_count": 141
  },
  {
   "metadata": {
    "ExecuteTime": {
     "end_time": "2024-10-12T18:41:12.238124Z",
     "start_time": "2024-10-12T18:41:12.225201Z"
    }
   },
   "cell_type": "code",
   "source": [
    "print('train: ', mse(y_train, predict_all_train))\n",
    "print('test: ', mse(y_test, predict_all_test))"
   ],
   "id": "cd29b94a88cca408",
   "outputs": [
    {
     "name": "stdout",
     "output_type": "stream",
     "text": [
      "train:  10.847480945000452\n",
      "test:  10.96064064378709\n"
     ]
    }
   ],
   "execution_count": 142
  },
  {
   "metadata": {
    "ExecuteTime": {
     "end_time": "2024-10-12T18:41:13.927870Z",
     "start_time": "2024-10-12T18:41:13.908123Z"
    }
   },
   "cell_type": "code",
   "source": "summarize(results_model_all).axes",
   "id": "72fe7ec982fe5b46",
   "outputs": [
    {
     "data": {
      "text/plain": [
       "[Index(['cylinders', 'displacement', 'horsepower', 'weight', 'acceleration',\n",
       "        'year', 'origin', 'intercept'],\n",
       "       dtype='object'),\n",
       " Index(['coef', 'std err', 't', 'P>|t|'], dtype='object')]"
      ]
     },
     "execution_count": 143,
     "metadata": {},
     "output_type": "execute_result"
    }
   ],
   "execution_count": 143
  },
  {
   "metadata": {
    "ExecuteTime": {
     "end_time": "2024-10-12T18:41:15.827413Z",
     "start_time": "2024-10-12T18:41:15.778147Z"
    }
   },
   "cell_type": "code",
   "source": [
    "sig_feature_list = list()\n",
    "\n",
    "for count, row in enumerate(summarize(results_model_all)['P>|t|']):\n",
    "    if row == 0:\n",
    "        sig_feature_list.append(summarize(results_model_all).axes[0][count])\n",
    "        \n",
    "sig_feature_list"
   ],
   "id": "92f752fdb87fb612",
   "outputs": [
    {
     "data": {
      "text/plain": [
       "['weight', 'year', 'origin', 'intercept']"
      ]
     },
     "execution_count": 144,
     "metadata": {},
     "output_type": "execute_result"
    }
   ],
   "execution_count": 144
  },
  {
   "metadata": {
    "ExecuteTime": {
     "end_time": "2024-10-12T18:41:24.974157Z",
     "start_time": "2024-10-12T18:41:24.951516Z"
    }
   },
   "cell_type": "code",
   "source": [
    "results_model_sig = sm.OLS(y_train, x_train[sig_feature_list]).fit()\n",
    "summarize(results_model_sig)"
   ],
   "id": "e7ebdcce752a090d",
   "outputs": [
    {
     "data": {
      "text/plain": [
       "              coef  std err       t  P>|t|\n",
       "weight     -0.0060    0.000 -23.588    0.0\n",
       "year        0.7571    0.048  15.668    0.0\n",
       "origin      1.1504    0.259   4.439    0.0\n",
       "intercept -18.0459    4.001  -4.510    0.0"
      ],
      "text/html": [
       "<div>\n",
       "<style scoped>\n",
       "    .dataframe tbody tr th:only-of-type {\n",
       "        vertical-align: middle;\n",
       "    }\n",
       "\n",
       "    .dataframe tbody tr th {\n",
       "        vertical-align: top;\n",
       "    }\n",
       "\n",
       "    .dataframe thead th {\n",
       "        text-align: right;\n",
       "    }\n",
       "</style>\n",
       "<table border=\"1\" class=\"dataframe\">\n",
       "  <thead>\n",
       "    <tr style=\"text-align: right;\">\n",
       "      <th></th>\n",
       "      <th>coef</th>\n",
       "      <th>std err</th>\n",
       "      <th>t</th>\n",
       "      <th>P&gt;|t|</th>\n",
       "    </tr>\n",
       "  </thead>\n",
       "  <tbody>\n",
       "    <tr>\n",
       "      <th>weight</th>\n",
       "      <td>-0.0060</td>\n",
       "      <td>0.000</td>\n",
       "      <td>-23.588</td>\n",
       "      <td>0.0</td>\n",
       "    </tr>\n",
       "    <tr>\n",
       "      <th>year</th>\n",
       "      <td>0.7571</td>\n",
       "      <td>0.048</td>\n",
       "      <td>15.668</td>\n",
       "      <td>0.0</td>\n",
       "    </tr>\n",
       "    <tr>\n",
       "      <th>origin</th>\n",
       "      <td>1.1504</td>\n",
       "      <td>0.259</td>\n",
       "      <td>4.439</td>\n",
       "      <td>0.0</td>\n",
       "    </tr>\n",
       "    <tr>\n",
       "      <th>intercept</th>\n",
       "      <td>-18.0459</td>\n",
       "      <td>4.001</td>\n",
       "      <td>-4.510</td>\n",
       "      <td>0.0</td>\n",
       "    </tr>\n",
       "  </tbody>\n",
       "</table>\n",
       "</div>"
      ]
     },
     "execution_count": 145,
     "metadata": {},
     "output_type": "execute_result"
    }
   ],
   "execution_count": 145
  },
  {
   "metadata": {
    "ExecuteTime": {
     "end_time": "2024-10-12T18:41:28.876730Z",
     "start_time": "2024-10-12T18:41:28.861528Z"
    }
   },
   "cell_type": "code",
   "source": [
    "predict_sig_train = predict(x_train[sig_feature_list], results_model_sig)\n",
    "predict_sig_test = predict(x_test[sig_feature_list], results_model_sig)\n",
    "\n",
    "print(f\"train: {mse(y_train, predict_sig_train)}\")\n",
    "print(f\"test: {mse(y_test, predict_sig_test)}\")"
   ],
   "id": "8c08b6dbea04ef24",
   "outputs": [
    {
     "name": "stdout",
     "output_type": "stream",
     "text": [
      "train: 11.09210519086095\n",
      "test: 11.675371363733289\n"
     ]
    }
   ],
   "execution_count": 146
  },
  {
   "metadata": {
    "ExecuteTime": {
     "end_time": "2024-10-12T18:41:31.038728Z",
     "start_time": "2024-10-12T18:41:30.993962Z"
    }
   },
   "cell_type": "code",
   "source": [
    "poly_x_train = MS([poly('weight', degree=2), 'weight', 'year', 'origin', 'intercept']).fit_transform(x_train)\n",
    "\n",
    "results_model_poly = sm.OLS(y_train, poly_x_train).fit()\n",
    "\n",
    "summarize(results_model_poly)"
   ],
   "id": "f05cfbb3271cfc3d",
   "outputs": [
    {
     "data": {
      "text/plain": [
       "                              coef  std err       t  P>|t|\n",
       "intercept                 -10.5151    1.785  -5.892   0.00\n",
       "poly(weight, degree=2)[0]   1.8641    0.316   5.892   0.00\n",
       "poly(weight, degree=2)[1]  30.2044    3.184   9.487   0.00\n",
       "weight                     -0.0064    0.000 -28.603   0.00\n",
       "year                        0.8247    0.044  18.675   0.00\n",
       "origin                      0.5026    0.243   2.064   0.04\n",
       "intercept                 -10.5151    1.785  -5.892   0.00"
      ],
      "text/html": [
       "<div>\n",
       "<style scoped>\n",
       "    .dataframe tbody tr th:only-of-type {\n",
       "        vertical-align: middle;\n",
       "    }\n",
       "\n",
       "    .dataframe tbody tr th {\n",
       "        vertical-align: top;\n",
       "    }\n",
       "\n",
       "    .dataframe thead th {\n",
       "        text-align: right;\n",
       "    }\n",
       "</style>\n",
       "<table border=\"1\" class=\"dataframe\">\n",
       "  <thead>\n",
       "    <tr style=\"text-align: right;\">\n",
       "      <th></th>\n",
       "      <th>coef</th>\n",
       "      <th>std err</th>\n",
       "      <th>t</th>\n",
       "      <th>P&gt;|t|</th>\n",
       "    </tr>\n",
       "  </thead>\n",
       "  <tbody>\n",
       "    <tr>\n",
       "      <th>intercept</th>\n",
       "      <td>-10.5151</td>\n",
       "      <td>1.785</td>\n",
       "      <td>-5.892</td>\n",
       "      <td>0.00</td>\n",
       "    </tr>\n",
       "    <tr>\n",
       "      <th>poly(weight, degree=2)[0]</th>\n",
       "      <td>1.8641</td>\n",
       "      <td>0.316</td>\n",
       "      <td>5.892</td>\n",
       "      <td>0.00</td>\n",
       "    </tr>\n",
       "    <tr>\n",
       "      <th>poly(weight, degree=2)[1]</th>\n",
       "      <td>30.2044</td>\n",
       "      <td>3.184</td>\n",
       "      <td>9.487</td>\n",
       "      <td>0.00</td>\n",
       "    </tr>\n",
       "    <tr>\n",
       "      <th>weight</th>\n",
       "      <td>-0.0064</td>\n",
       "      <td>0.000</td>\n",
       "      <td>-28.603</td>\n",
       "      <td>0.00</td>\n",
       "    </tr>\n",
       "    <tr>\n",
       "      <th>year</th>\n",
       "      <td>0.8247</td>\n",
       "      <td>0.044</td>\n",
       "      <td>18.675</td>\n",
       "      <td>0.00</td>\n",
       "    </tr>\n",
       "    <tr>\n",
       "      <th>origin</th>\n",
       "      <td>0.5026</td>\n",
       "      <td>0.243</td>\n",
       "      <td>2.064</td>\n",
       "      <td>0.04</td>\n",
       "    </tr>\n",
       "    <tr>\n",
       "      <th>intercept</th>\n",
       "      <td>-10.5151</td>\n",
       "      <td>1.785</td>\n",
       "      <td>-5.892</td>\n",
       "      <td>0.00</td>\n",
       "    </tr>\n",
       "  </tbody>\n",
       "</table>\n",
       "</div>"
      ]
     },
     "execution_count": 147,
     "metadata": {},
     "output_type": "execute_result"
    }
   ],
   "execution_count": 147
  },
  {
   "metadata": {
    "ExecuteTime": {
     "end_time": "2024-10-12T18:41:37.634169Z",
     "start_time": "2024-10-12T18:41:37.609386Z"
    }
   },
   "cell_type": "code",
   "source": [
    "predict_poly_train = predict(poly_x_train, results_model_poly)\n",
    "poly_x_test = MS([poly('weight', degree=2), 'weight', 'year', 'origin', 'intercept']).fit_transform(x_test)\n",
    "predict_poly_test = predict(poly_x_test, results_model_poly)"
   ],
   "id": "a89ecaa52743f31d",
   "outputs": [],
   "execution_count": 148
  },
  {
   "metadata": {
    "ExecuteTime": {
     "end_time": "2024-10-12T18:41:39.339131Z",
     "start_time": "2024-10-12T18:41:39.204933Z"
    }
   },
   "cell_type": "code",
   "source": [
    "ax = subplots(figsize=(8,8))[1]\n",
    "ax.scatter(predict_poly_train, y_train - predict_poly_train)\n",
    "ax.set_xlabel('Fitted value')\n",
    "ax.set_ylabel('Residual')\n",
    "ax.axhline(0, c='k', ls='--');"
   ],
   "id": "fa37c48095d9b696",
   "outputs": [
    {
     "data": {
      "text/plain": [
       "<Figure size 800x800 with 1 Axes>"
      ],
      "image/png": "[encoded data removed]"
     },
     "metadata": {},
     "output_type": "display_data"
    }
   ],
   "execution_count": 149
  },
  {
   "metadata": {},
   "cell_type": "markdown",
   "source": "## Carseast data",
   "id": "aaa075b153a1f38e"
  },
  {
   "metadata": {
    "ExecuteTime": {
     "end_time": "2024-10-11T18:05:04.462763Z",
     "start_time": "2024-10-11T18:05:04.451615Z"
    }
   },
   "cell_type": "code",
   "source": "carseats =  load_data('carseats')",
   "id": "eeeb2a35191f1c84",
   "outputs": [
    {
     "data": {
      "text/plain": [
       "     Sales  CompPrice  Income  Advertising  Population  Price ShelveLoc  Age  \\\n",
       "0     9.50        138      73           11         276    120       Bad   42   \n",
       "1    11.22        111      48           16         260     83      Good   65   \n",
       "2    10.06        113      35           10         269     80    Medium   59   \n",
       "3     7.40        117     100            4         466     97    Medium   55   \n",
       "4     4.15        141      64            3         340    128       Bad   38   \n",
       "..     ...        ...     ...          ...         ...    ...       ...  ...   \n",
       "395  12.57        138     108           17         203    128      Good   33   \n",
       "396   6.14        139      23            3          37    120    Medium   55   \n",
       "397   7.41        162      26           12         368    159    Medium   40   \n",
       "398   5.94        100      79            7         284     95       Bad   50   \n",
       "399   9.71        134      37            0          27    120      Good   49   \n",
       "\n",
       "     Education Urban   US  \n",
       "0           17   Yes  Yes  \n",
       "1           10   Yes  Yes  \n",
       "2           12   Yes  Yes  \n",
       "3           14   Yes  Yes  \n",
       "4           13   Yes   No  \n",
       "..         ...   ...  ...  \n",
       "395         14   Yes  Yes  \n",
       "396         11    No  Yes  \n",
       "397         18   Yes  Yes  \n",
       "398         12   Yes  Yes  \n",
       "399         16   Yes  Yes  \n",
       "\n",
       "[400 rows x 11 columns]"
      ],
      "text/html": [
       "<div>\n",
       "<style scoped>\n",
       "    .dataframe tbody tr th:only-of-type {\n",
       "        vertical-align: middle;\n",
       "    }\n",
       "\n",
       "    .dataframe tbody tr th {\n",
       "        vertical-align: top;\n",
       "    }\n",
       "\n",
       "    .dataframe thead th {\n",
       "        text-align: right;\n",
       "    }\n",
       "</style>\n",
       "<table border=\"1\" class=\"dataframe\">\n",
       "  <thead>\n",
       "    <tr style=\"text-align: right;\">\n",
       "      <th></th>\n",
       "      <th>Sales</th>\n",
       "      <th>CompPrice</th>\n",
       "      <th>Income</th>\n",
       "      <th>Advertising</th>\n",
       "      <th>Population</th>\n",
       "      <th>Price</th>\n",
       "      <th>ShelveLoc</th>\n",
       "      <th>Age</th>\n",
       "      <th>Education</th>\n",
       "      <th>Urban</th>\n",
       "      <th>US</th>\n",
       "    </tr>\n",
       "  </thead>\n",
       "  <tbody>\n",
       "    <tr>\n",
       "      <th>0</th>\n",
       "      <td>9.50</td>\n",
       "      <td>138</td>\n",
       "      <td>73</td>\n",
       "      <td>11</td>\n",
       "      <td>276</td>\n",
       "      <td>120</td>\n",
       "      <td>Bad</td>\n",
       "      <td>42</td>\n",
       "      <td>17</td>\n",
       "      <td>Yes</td>\n",
       "      <td>Yes</td>\n",
       "    </tr>\n",
       "    <tr>\n",
       "      <th>1</th>\n",
       "      <td>11.22</td>\n",
       "      <td>111</td>\n",
       "      <td>48</td>\n",
       "      <td>16</td>\n",
       "      <td>260</td>\n",
       "      <td>83</td>\n",
       "      <td>Good</td>\n",
       "      <td>65</td>\n",
       "      <td>10</td>\n",
       "      <td>Yes</td>\n",
       "      <td>Yes</td>\n",
       "    </tr>\n",
       "    <tr>\n",
       "      <th>2</th>\n",
       "      <td>10.06</td>\n",
       "      <td>113</td>\n",
       "      <td>35</td>\n",
       "      <td>10</td>\n",
       "      <td>269</td>\n",
       "      <td>80</td>\n",
       "      <td>Medium</td>\n",
       "      <td>59</td>\n",
       "      <td>12</td>\n",
       "      <td>Yes</td>\n",
       "      <td>Yes</td>\n",
       "    </tr>\n",
       "    <tr>\n",
       "      <th>3</th>\n",
       "      <td>7.40</td>\n",
       "      <td>117</td>\n",
       "      <td>100</td>\n",
       "      <td>4</td>\n",
       "      <td>466</td>\n",
       "      <td>97</td>\n",
       "      <td>Medium</td>\n",
       "      <td>55</td>\n",
       "      <td>14</td>\n",
       "      <td>Yes</td>\n",
       "      <td>Yes</td>\n",
       "    </tr>\n",
       "    <tr>\n",
       "      <th>4</th>\n",
       "      <td>4.15</td>\n",
       "      <td>141</td>\n",
       "      <td>64</td>\n",
       "      <td>3</td>\n",
       "      <td>340</td>\n",
       "      <td>128</td>\n",
       "      <td>Bad</td>\n",
       "      <td>38</td>\n",
       "      <td>13</td>\n",
       "      <td>Yes</td>\n",
       "      <td>No</td>\n",
       "    </tr>\n",
       "    <tr>\n",
       "      <th>...</th>\n",
       "      <td>...</td>\n",
       "      <td>...</td>\n",
       "      <td>...</td>\n",
       "      <td>...</td>\n",
       "      <td>...</td>\n",
       "      <td>...</td>\n",
       "      <td>...</td>\n",
       "      <td>...</td>\n",
       "      <td>...</td>\n",
       "      <td>...</td>\n",
       "      <td>...</td>\n",
       "    </tr>\n",
       "    <tr>\n",
       "      <th>395</th>\n",
       "      <td>12.57</td>\n",
       "      <td>138</td>\n",
       "      <td>108</td>\n",
       "      <td>17</td>\n",
       "      <td>203</td>\n",
       "      <td>128</td>\n",
       "      <td>Good</td>\n",
       "      <td>33</td>\n",
       "      <td>14</td>\n",
       "      <td>Yes</td>\n",
       "      <td>Yes</td>\n",
       "    </tr>\n",
       "    <tr>\n",
       "      <th>396</th>\n",
       "      <td>6.14</td>\n",
       "      <td>139</td>\n",
       "      <td>23</td>\n",
       "      <td>3</td>\n",
       "      <td>37</td>\n",
       "      <td>120</td>\n",
       "      <td>Medium</td>\n",
       "      <td>55</td>\n",
       "      <td>11</td>\n",
       "      <td>No</td>\n",
       "      <td>Yes</td>\n",
       "    </tr>\n",
       "    <tr>\n",
       "      <th>397</th>\n",
       "      <td>7.41</td>\n",
       "      <td>162</td>\n",
       "      <td>26</td>\n",
       "      <td>12</td>\n",
       "      <td>368</td>\n",
       "      <td>159</td>\n",
       "      <td>Medium</td>\n",
       "      <td>40</td>\n",
       "      <td>18</td>\n",
       "      <td>Yes</td>\n",
       "      <td>Yes</td>\n",
       "    </tr>\n",
       "    <tr>\n",
       "      <th>398</th>\n",
       "      <td>5.94</td>\n",
       "      <td>100</td>\n",
       "      <td>79</td>\n",
       "      <td>7</td>\n",
       "      <td>284</td>\n",
       "      <td>95</td>\n",
       "      <td>Bad</td>\n",
       "      <td>50</td>\n",
       "      <td>12</td>\n",
       "      <td>Yes</td>\n",
       "      <td>Yes</td>\n",
       "    </tr>\n",
       "    <tr>\n",
       "      <th>399</th>\n",
       "      <td>9.71</td>\n",
       "      <td>134</td>\n",
       "      <td>37</td>\n",
       "      <td>0</td>\n",
       "      <td>27</td>\n",
       "      <td>120</td>\n",
       "      <td>Good</td>\n",
       "      <td>49</td>\n",
       "      <td>16</td>\n",
       "      <td>Yes</td>\n",
       "      <td>Yes</td>\n",
       "    </tr>\n",
       "  </tbody>\n",
       "</table>\n",
       "<p>400 rows × 11 columns</p>\n",
       "</div>"
      ]
     },
     "execution_count": 51,
     "metadata": {},
     "output_type": "execute_result"
    }
   ],
   "execution_count": 51
  },
  {
   "metadata": {
    "ExecuteTime": {
     "end_time": "2024-10-11T18:24:26.614096Z",
     "start_time": "2024-10-11T18:24:26.602424Z"
    }
   },
   "cell_type": "code",
   "source": [
    "carseats['US_Domestic'] = pd.Series(np.zeros(carseats.shape[0]))\n",
    "carseats.loc[carseats['US']=='Yes', 'US_Domestic'] = 1\n",
    "carseats['intercept'] = pd.Series(np.ones(carseats.shape[0]))\n",
    "\n",
    "carseat_x = carseats.drop(columns=['Sales'])\n",
    "carseat_y = carseats['Sales']\n",
    "\n",
    "carseat_train_x, carseat_test_y, carseat_train_y, carseat_test_y = train_test_split(carseat_x, carseat_y, test_size=0.25, random_state=314, shuffle=True)\n",
    "\n",
    "carseats"
   ],
   "id": "7f76513b5dd41f14",
   "outputs": [
    {
     "data": {
      "text/plain": [
       "     Sales  CompPrice  Income  Advertising  Population  Price ShelveLoc  Age  \\\n",
       "0     9.50        138      73           11         276    120       Bad   42   \n",
       "1    11.22        111      48           16         260     83      Good   65   \n",
       "2    10.06        113      35           10         269     80    Medium   59   \n",
       "3     7.40        117     100            4         466     97    Medium   55   \n",
       "4     4.15        141      64            3         340    128       Bad   38   \n",
       "..     ...        ...     ...          ...         ...    ...       ...  ...   \n",
       "395  12.57        138     108           17         203    128      Good   33   \n",
       "396   6.14        139      23            3          37    120    Medium   55   \n",
       "397   7.41        162      26           12         368    159    Medium   40   \n",
       "398   5.94        100      79            7         284     95       Bad   50   \n",
       "399   9.71        134      37            0          27    120      Good   49   \n",
       "\n",
       "     Education Urban   US  US_Domestic  intercept  \n",
       "0           17   Yes  Yes          1.0        1.0  \n",
       "1           10   Yes  Yes          1.0        1.0  \n",
       "2           12   Yes  Yes          1.0        1.0  \n",
       "3           14   Yes  Yes          1.0        1.0  \n",
       "4           13   Yes   No          0.0        1.0  \n",
       "..         ...   ...  ...          ...        ...  \n",
       "395         14   Yes  Yes          1.0        1.0  \n",
       "396         11    No  Yes          1.0        1.0  \n",
       "397         18   Yes  Yes          1.0        1.0  \n",
       "398         12   Yes  Yes          1.0        1.0  \n",
       "399         16   Yes  Yes          1.0        1.0  \n",
       "\n",
       "[400 rows x 13 columns]"
      ],
      "text/html": [
       "<div>\n",
       "<style scoped>\n",
       "    .dataframe tbody tr th:only-of-type {\n",
       "        vertical-align: middle;\n",
       "    }\n",
       "\n",
       "    .dataframe tbody tr th {\n",
       "        vertical-align: top;\n",
       "    }\n",
       "\n",
       "    .dataframe thead th {\n",
       "        text-align: right;\n",
       "    }\n",
       "</style>\n",
       "<table border=\"1\" class=\"dataframe\">\n",
       "  <thead>\n",
       "    <tr style=\"text-align: right;\">\n",
       "      <th></th>\n",
       "      <th>Sales</th>\n",
       "      <th>CompPrice</th>\n",
       "      <th>Income</th>\n",
       "      <th>Advertising</th>\n",
       "      <th>Population</th>\n",
       "      <th>Price</th>\n",
       "      <th>ShelveLoc</th>\n",
       "      <th>Age</th>\n",
       "      <th>Education</th>\n",
       "      <th>Urban</th>\n",
       "      <th>US</th>\n",
       "      <th>US_Domestic</th>\n",
       "      <th>intercept</th>\n",
       "    </tr>\n",
       "  </thead>\n",
       "  <tbody>\n",
       "    <tr>\n",
       "      <th>0</th>\n",
       "      <td>9.50</td>\n",
       "      <td>138</td>\n",
       "      <td>73</td>\n",
       "      <td>11</td>\n",
       "      <td>276</td>\n",
       "      <td>120</td>\n",
       "      <td>Bad</td>\n",
       "      <td>42</td>\n",
       "      <td>17</td>\n",
       "      <td>Yes</td>\n",
       "      <td>Yes</td>\n",
       "      <td>1.0</td>\n",
       "      <td>1.0</td>\n",
       "    </tr>\n",
       "    <tr>\n",
       "      <th>1</th>\n",
       "      <td>11.22</td>\n",
       "      <td>111</td>\n",
       "      <td>48</td>\n",
       "      <td>16</td>\n",
       "      <td>260</td>\n",
       "      <td>83</td>\n",
       "      <td>Good</td>\n",
       "      <td>65</td>\n",
       "      <td>10</td>\n",
       "      <td>Yes</td>\n",
       "      <td>Yes</td>\n",
       "      <td>1.0</td>\n",
       "      <td>1.0</td>\n",
       "    </tr>\n",
       "    <tr>\n",
       "      <th>2</th>\n",
       "      <td>10.06</td>\n",
       "      <td>113</td>\n",
       "      <td>35</td>\n",
       "      <td>10</td>\n",
       "      <td>269</td>\n",
       "      <td>80</td>\n",
       "      <td>Medium</td>\n",
       "      <td>59</td>\n",
       "      <td>12</td>\n",
       "      <td>Yes</td>\n",
       "      <td>Yes</td>\n",
       "      <td>1.0</td>\n",
       "      <td>1.0</td>\n",
       "    </tr>\n",
       "    <tr>\n",
       "      <th>3</th>\n",
       "      <td>7.40</td>\n",
       "      <td>117</td>\n",
       "      <td>100</td>\n",
       "      <td>4</td>\n",
       "      <td>466</td>\n",
       "      <td>97</td>\n",
       "      <td>Medium</td>\n",
       "      <td>55</td>\n",
       "      <td>14</td>\n",
       "      <td>Yes</td>\n",
       "      <td>Yes</td>\n",
       "      <td>1.0</td>\n",
       "      <td>1.0</td>\n",
       "    </tr>\n",
       "    <tr>\n",
       "      <th>4</th>\n",
       "      <td>4.15</td>\n",
       "      <td>141</td>\n",
       "      <td>64</td>\n",
       "      <td>3</td>\n",
       "      <td>340</td>\n",
       "      <td>128</td>\n",
       "      <td>Bad</td>\n",
       "      <td>38</td>\n",
       "      <td>13</td>\n",
       "      <td>Yes</td>\n",
       "      <td>No</td>\n",
       "      <td>0.0</td>\n",
       "      <td>1.0</td>\n",
       "    </tr>\n",
       "    <tr>\n",
       "      <th>...</th>\n",
       "      <td>...</td>\n",
       "      <td>...</td>\n",
       "      <td>...</td>\n",
       "      <td>...</td>\n",
       "      <td>...</td>\n",
       "      <td>...</td>\n",
       "      <td>...</td>\n",
       "      <td>...</td>\n",
       "      <td>...</td>\n",
       "      <td>...</td>\n",
       "      <td>...</td>\n",
       "      <td>...</td>\n",
       "      <td>...</td>\n",
       "    </tr>\n",
       "    <tr>\n",
       "      <th>395</th>\n",
       "      <td>12.57</td>\n",
       "      <td>138</td>\n",
       "      <td>108</td>\n",
       "      <td>17</td>\n",
       "      <td>203</td>\n",
       "      <td>128</td>\n",
       "      <td>Good</td>\n",
       "      <td>33</td>\n",
       "      <td>14</td>\n",
       "      <td>Yes</td>\n",
       "      <td>Yes</td>\n",
       "      <td>1.0</td>\n",
       "      <td>1.0</td>\n",
       "    </tr>\n",
       "    <tr>\n",
       "      <th>396</th>\n",
       "      <td>6.14</td>\n",
       "      <td>139</td>\n",
       "      <td>23</td>\n",
       "      <td>3</td>\n",
       "      <td>37</td>\n",
       "      <td>120</td>\n",
       "      <td>Medium</td>\n",
       "      <td>55</td>\n",
       "      <td>11</td>\n",
       "      <td>No</td>\n",
       "      <td>Yes</td>\n",
       "      <td>1.0</td>\n",
       "      <td>1.0</td>\n",
       "    </tr>\n",
       "    <tr>\n",
       "      <th>397</th>\n",
       "      <td>7.41</td>\n",
       "      <td>162</td>\n",
       "      <td>26</td>\n",
       "      <td>12</td>\n",
       "      <td>368</td>\n",
       "      <td>159</td>\n",
       "      <td>Medium</td>\n",
       "      <td>40</td>\n",
       "      <td>18</td>\n",
       "      <td>Yes</td>\n",
       "      <td>Yes</td>\n",
       "      <td>1.0</td>\n",
       "      <td>1.0</td>\n",
       "    </tr>\n",
       "    <tr>\n",
       "      <th>398</th>\n",
       "      <td>5.94</td>\n",
       "      <td>100</td>\n",
       "      <td>79</td>\n",
       "      <td>7</td>\n",
       "      <td>284</td>\n",
       "      <td>95</td>\n",
       "      <td>Bad</td>\n",
       "      <td>50</td>\n",
       "      <td>12</td>\n",
       "      <td>Yes</td>\n",
       "      <td>Yes</td>\n",
       "      <td>1.0</td>\n",
       "      <td>1.0</td>\n",
       "    </tr>\n",
       "    <tr>\n",
       "      <th>399</th>\n",
       "      <td>9.71</td>\n",
       "      <td>134</td>\n",
       "      <td>37</td>\n",
       "      <td>0</td>\n",
       "      <td>27</td>\n",
       "      <td>120</td>\n",
       "      <td>Good</td>\n",
       "      <td>49</td>\n",
       "      <td>16</td>\n",
       "      <td>Yes</td>\n",
       "      <td>Yes</td>\n",
       "      <td>1.0</td>\n",
       "      <td>1.0</td>\n",
       "    </tr>\n",
       "  </tbody>\n",
       "</table>\n",
       "<p>400 rows × 13 columns</p>\n",
       "</div>"
      ]
     },
     "execution_count": 67,
     "metadata": {},
     "output_type": "execute_result"
    }
   ],
   "execution_count": 67
  },
  {
   "metadata": {
    "ExecuteTime": {
     "end_time": "2024-10-11T18:17:18.024070Z",
     "start_time": "2024-10-11T18:17:18.011361Z"
    }
   },
   "cell_type": "code",
   "source": [
    "result_model_carseat = sm.OLS(carseat_train_y, carseat_train_x[['intercept', 'Price', 'US_Domestic']]).fit()\n",
    "summarize(result_model_carseat)"
   ],
   "id": "1304c3e0d348f7f0",
   "outputs": [
    {
     "data": {
      "text/plain": [
       "                coef  std err       t  P>|t|\n",
       "intercept    12.7814    0.753  16.975  0.000\n",
       "Price        -0.0512    0.006  -8.122  0.000\n",
       "US_Domestic   1.0599    0.303   3.499  0.001"
      ],
      "text/html": [
       "<div>\n",
       "<style scoped>\n",
       "    .dataframe tbody tr th:only-of-type {\n",
       "        vertical-align: middle;\n",
       "    }\n",
       "\n",
       "    .dataframe tbody tr th {\n",
       "        vertical-align: top;\n",
       "    }\n",
       "\n",
       "    .dataframe thead th {\n",
       "        text-align: right;\n",
       "    }\n",
       "</style>\n",
       "<table border=\"1\" class=\"dataframe\">\n",
       "  <thead>\n",
       "    <tr style=\"text-align: right;\">\n",
       "      <th></th>\n",
       "      <th>coef</th>\n",
       "      <th>std err</th>\n",
       "      <th>t</th>\n",
       "      <th>P&gt;|t|</th>\n",
       "    </tr>\n",
       "  </thead>\n",
       "  <tbody>\n",
       "    <tr>\n",
       "      <th>intercept</th>\n",
       "      <td>12.7814</td>\n",
       "      <td>0.753</td>\n",
       "      <td>16.975</td>\n",
       "      <td>0.000</td>\n",
       "    </tr>\n",
       "    <tr>\n",
       "      <th>Price</th>\n",
       "      <td>-0.0512</td>\n",
       "      <td>0.006</td>\n",
       "      <td>-8.122</td>\n",
       "      <td>0.000</td>\n",
       "    </tr>\n",
       "    <tr>\n",
       "      <th>US_Domestic</th>\n",
       "      <td>1.0599</td>\n",
       "      <td>0.303</td>\n",
       "      <td>3.499</td>\n",
       "      <td>0.001</td>\n",
       "    </tr>\n",
       "  </tbody>\n",
       "</table>\n",
       "</div>"
      ]
     },
     "execution_count": 63,
     "metadata": {},
     "output_type": "execute_result"
    }
   ],
   "execution_count": 63
  },
  {
   "metadata": {
    "ExecuteTime": {
     "end_time": "2024-10-11T18:54:42.499904Z",
     "start_time": "2024-10-11T18:54:42.487009Z"
    }
   },
   "cell_type": "code",
   "source": "carseat_x_interaction = MS(['intercept', 'Price', 'US_Domestic', ('Price', 'US_Domestic')]).fit_transform(carseat_train_x)",
   "id": "24f697d3e6088dcb",
   "outputs": [],
   "execution_count": 71
  },
  {
   "metadata": {
    "ExecuteTime": {
     "end_time": "2024-10-11T18:54:59.029058Z",
     "start_time": "2024-10-11T18:54:59.014532Z"
    }
   },
   "cell_type": "code",
   "source": [
    "result_model_carseat_inter = sm.OLS(carseat_train_y, carseat_x_interaction).fit()\n",
    "summarize(result_model_carseat_inter)"
   ],
   "id": "b16d7366026fcf76",
   "outputs": [
    {
     "data": {
      "text/plain": [
       "                     coef  std err       t  P>|t|\n",
       "intercept          5.9990    0.564  10.645  0.000\n",
       "intercept          5.9990    0.564  10.645  0.000\n",
       "Price             -0.0443    0.010  -4.555  0.000\n",
       "US_Domestic        2.4276    1.495   1.624  0.106\n",
       "Price:US_Domestic -0.0119    0.013  -0.934  0.351"
      ],
      "text/html": [
       "<div>\n",
       "<style scoped>\n",
       "    .dataframe tbody tr th:only-of-type {\n",
       "        vertical-align: middle;\n",
       "    }\n",
       "\n",
       "    .dataframe tbody tr th {\n",
       "        vertical-align: top;\n",
       "    }\n",
       "\n",
       "    .dataframe thead th {\n",
       "        text-align: right;\n",
       "    }\n",
       "</style>\n",
       "<table border=\"1\" class=\"dataframe\">\n",
       "  <thead>\n",
       "    <tr style=\"text-align: right;\">\n",
       "      <th></th>\n",
       "      <th>coef</th>\n",
       "      <th>std err</th>\n",
       "      <th>t</th>\n",
       "      <th>P&gt;|t|</th>\n",
       "    </tr>\n",
       "  </thead>\n",
       "  <tbody>\n",
       "    <tr>\n",
       "      <th>intercept</th>\n",
       "      <td>5.9990</td>\n",
       "      <td>0.564</td>\n",
       "      <td>10.645</td>\n",
       "      <td>0.000</td>\n",
       "    </tr>\n",
       "    <tr>\n",
       "      <th>intercept</th>\n",
       "      <td>5.9990</td>\n",
       "      <td>0.564</td>\n",
       "      <td>10.645</td>\n",
       "      <td>0.000</td>\n",
       "    </tr>\n",
       "    <tr>\n",
       "      <th>Price</th>\n",
       "      <td>-0.0443</td>\n",
       "      <td>0.010</td>\n",
       "      <td>-4.555</td>\n",
       "      <td>0.000</td>\n",
       "    </tr>\n",
       "    <tr>\n",
       "      <th>US_Domestic</th>\n",
       "      <td>2.4276</td>\n",
       "      <td>1.495</td>\n",
       "      <td>1.624</td>\n",
       "      <td>0.106</td>\n",
       "    </tr>\n",
       "    <tr>\n",
       "      <th>Price:US_Domestic</th>\n",
       "      <td>-0.0119</td>\n",
       "      <td>0.013</td>\n",
       "      <td>-0.934</td>\n",
       "      <td>0.351</td>\n",
       "    </tr>\n",
       "  </tbody>\n",
       "</table>\n",
       "</div>"
      ]
     },
     "execution_count": 72,
     "metadata": {},
     "output_type": "execute_result"
    }
   ],
   "execution_count": 72
  },
  {
   "metadata": {
    "ExecuteTime": {
     "end_time": "2024-10-11T21:20:35.699425Z",
     "start_time": "2024-10-11T21:20:35.689414Z"
    }
   },
   "cell_type": "code",
   "source": [
    "weekly = load_data('weekly')\n",
    "weekly['Direction_int'] = pd.Series(np.zeros(weekly.shape[0]))\n",
    "weekly.loc[weekly['Direction']=='Up', 'Direction_int'] = 1\n",
    "\n",
    "weekly_train = (weekly[weekly['Year'] <= 2005]).drop(columns=['Direction'])\n",
    "weekly_test = weekly[weekly['Year'] > 2005].drop(columns=['Direction'])"
   ],
   "id": "e16a45d24c41fb5f",
   "outputs": [],
   "execution_count": 121
  },
  {
   "metadata": {
    "ExecuteTime": {
     "end_time": "2024-10-11T21:20:37.820701Z",
     "start_time": "2024-10-11T21:20:37.815580Z"
    }
   },
   "cell_type": "code",
   "source": "weekly_train.mean()",
   "id": "d1dc0394572035bc",
   "outputs": [
    {
     "data": {
      "text/plain": [
       "Year             1997.543478\n",
       "Lag1                0.184471\n",
       "Lag2                0.186242\n",
       "Lag3                0.180726\n",
       "Lag4                0.180994\n",
       "Lag5                0.177088\n",
       "Volume              0.767336\n",
       "Today               0.181546\n",
       "Direction_int       0.559179\n",
       "dtype: float64"
      ]
     },
     "execution_count": 122,
     "metadata": {},
     "output_type": "execute_result"
    }
   ],
   "execution_count": 122
  },
  {
   "metadata": {
    "ExecuteTime": {
     "end_time": "2024-10-11T21:20:40.801515Z",
     "start_time": "2024-10-11T21:20:40.793650Z"
    }
   },
   "cell_type": "code",
   "source": "weekly_train.std()",
   "id": "198afcedaf39d1a1",
   "outputs": [
    {
     "data": {
      "text/plain": [
       "Year             4.586853\n",
       "Lag1             2.098292\n",
       "Lag2             2.098845\n",
       "Lag3             2.103670\n",
       "Lag4             2.103603\n",
       "Lag5             2.107403\n",
       "Volume           0.558954\n",
       "Today            2.099099\n",
       "Direction_int    0.496786\n",
       "dtype: float64"
      ]
     },
     "execution_count": 123,
     "metadata": {},
     "output_type": "execute_result"
    }
   ],
   "execution_count": 123
  },
  {
   "metadata": {
    "ExecuteTime": {
     "end_time": "2024-10-11T21:20:41.790370Z",
     "start_time": "2024-10-11T21:20:41.784843Z"
    }
   },
   "cell_type": "code",
   "source": "weekly_train.median()",
   "id": "d8d7624d78fbc1a8",
   "outputs": [
    {
     "data": {
      "text/plain": [
       "Year             1998.000000\n",
       "Lag1                0.278000\n",
       "Lag2                0.290000\n",
       "Lag3                0.278000\n",
       "Lag4                0.278000\n",
       "Lag5                0.278000\n",
       "Volume              0.591209\n",
       "Today               0.270500\n",
       "Direction_int       1.000000\n",
       "dtype: float64"
      ]
     },
     "execution_count": 124,
     "metadata": {},
     "output_type": "execute_result"
    }
   ],
   "execution_count": 124
  },
  {
   "metadata": {
    "ExecuteTime": {
     "end_time": "2024-10-11T21:20:42.803669Z",
     "start_time": "2024-10-11T21:20:42.798115Z"
    }
   },
   "cell_type": "code",
   "source": "weekly_train.min()",
   "id": "bf17176d7ec9be06",
   "outputs": [
    {
     "data": {
      "text/plain": [
       "Year             1990.000000\n",
       "Lag1              -11.050000\n",
       "Lag2              -11.050000\n",
       "Lag3              -11.050000\n",
       "Lag4              -11.050000\n",
       "Lag5              -11.050000\n",
       "Volume              0.087465\n",
       "Today             -11.050000\n",
       "Direction_int       0.000000\n",
       "dtype: float64"
      ]
     },
     "execution_count": 125,
     "metadata": {},
     "output_type": "execute_result"
    }
   ],
   "execution_count": 125
  },
  {
   "metadata": {
    "ExecuteTime": {
     "end_time": "2024-10-11T21:20:43.924605Z",
     "start_time": "2024-10-11T21:20:43.918480Z"
    }
   },
   "cell_type": "code",
   "source": "weekly_train.max()",
   "id": "9238f10dfda1c61a",
   "outputs": [
    {
     "data": {
      "text/plain": [
       "Year             2005.00000\n",
       "Lag1                7.78000\n",
       "Lag2                7.78000\n",
       "Lag3                7.78000\n",
       "Lag4                7.78000\n",
       "Lag5                7.78000\n",
       "Volume              2.48811\n",
       "Today               7.78000\n",
       "Direction_int       1.00000\n",
       "dtype: float64"
      ]
     },
     "execution_count": 126,
     "metadata": {},
     "output_type": "execute_result"
    }
   ],
   "execution_count": 126
  },
  {
   "metadata": {
    "ExecuteTime": {
     "end_time": "2024-10-11T21:20:46.980369Z",
     "start_time": "2024-10-11T21:20:46.836647Z"
    }
   },
   "cell_type": "code",
   "source": [
    "train_corr = weekly_train.corr()\n",
    "\n",
    "# Generate a mask for the upper triangle\n",
    "mask = np.triu(np.ones_like(train_corr, dtype=bool))\n",
    "\n",
    "# Set up the matplotlib figure\n",
    "f, ax = plt.subplots(figsize=(11, 9))\n",
    "\n",
    "# Generate a custom diverging colormap\n",
    "cmap = sns.diverging_palette(230, 20, as_cmap=True)\n",
    "\n",
    "# Draw the heatmap with the mask and correct aspect ratio\n",
    "sns.heatmap(train_corr, mask=mask, cmap=cmap, vmax=.3, center=0,\n",
    "            square=True, linewidths=.5, cbar_kws={\"shrink\": .5})"
   ],
   "id": "330a2ab5287a6107",
   "outputs": [
    {
     "data": {
      "text/plain": [
       "<Axes: >"
      ]
     },
     "execution_count": 127,
     "metadata": {},
     "output_type": "execute_result"
    },
    {
     "data": {
      "text/plain": [
       "<Figure size 1100x900 with 2 Axes>"
      ],
      "image/png": "[encoded data removed]"
     },
     "metadata": {},
     "output_type": "display_data"
    }
   ],
   "execution_count": 127
  },
  {
   "metadata": {
    "ExecuteTime": {
     "end_time": "2024-10-11T21:20:49.410316Z",
     "start_time": "2024-10-11T21:20:49.400426Z"
    }
   },
   "cell_type": "code",
   "source": [
    "weekly_train = weekly_train.join(weekly['Direction'])\n",
    "weekly"
   ],
   "id": "506a2fece886ef68",
   "outputs": [
    {
     "data": {
      "text/plain": [
       "      Year   Lag1   Lag2   Lag3   Lag4   Lag5    Volume  Today Direction  \\\n",
       "0     1990  0.816  1.572 -3.936 -0.229 -3.484  0.154976 -0.270      Down   \n",
       "1     1990 -0.270  0.816  1.572 -3.936 -0.229  0.148574 -2.576      Down   \n",
       "2     1990 -2.576 -0.270  0.816  1.572 -3.936  0.159837  3.514        Up   \n",
       "3     1990  3.514 -2.576 -0.270  0.816  1.572  0.161630  0.712        Up   \n",
       "4     1990  0.712  3.514 -2.576 -0.270  0.816  0.153728  1.178        Up   \n",
       "...    ...    ...    ...    ...    ...    ...       ...    ...       ...   \n",
       "1084  2010 -0.861  0.043 -2.173  3.599  0.015  3.205160  2.969        Up   \n",
       "1085  2010  2.969 -0.861  0.043 -2.173  3.599  4.242568  1.281        Up   \n",
       "1086  2010  1.281  2.969 -0.861  0.043 -2.173  4.835082  0.283        Up   \n",
       "1087  2010  0.283  1.281  2.969 -0.861  0.043  4.454044  1.034        Up   \n",
       "1088  2010  1.034  0.283  1.281  2.969 -0.861  2.707105  0.069        Up   \n",
       "\n",
       "      Direction_int  \n",
       "0               0.0  \n",
       "1               0.0  \n",
       "2               1.0  \n",
       "3               1.0  \n",
       "4               1.0  \n",
       "...             ...  \n",
       "1084            1.0  \n",
       "1085            1.0  \n",
       "1086            1.0  \n",
       "1087            1.0  \n",
       "1088            1.0  \n",
       "\n",
       "[1089 rows x 10 columns]"
      ],
      "text/html": [
       "<div>\n",
       "<style scoped>\n",
       "    .dataframe tbody tr th:only-of-type {\n",
       "        vertical-align: middle;\n",
       "    }\n",
       "\n",
       "    .dataframe tbody tr th {\n",
       "        vertical-align: top;\n",
       "    }\n",
       "\n",
       "    .dataframe thead th {\n",
       "        text-align: right;\n",
       "    }\n",
       "</style>\n",
       "<table border=\"1\" class=\"dataframe\">\n",
       "  <thead>\n",
       "    <tr style=\"text-align: right;\">\n",
       "      <th></th>\n",
       "      <th>Year</th>\n",
       "      <th>Lag1</th>\n",
       "      <th>Lag2</th>\n",
       "      <th>Lag3</th>\n",
       "      <th>Lag4</th>\n",
       "      <th>Lag5</th>\n",
       "      <th>Volume</th>\n",
       "      <th>Today</th>\n",
       "      <th>Direction</th>\n",
       "      <th>Direction_int</th>\n",
       "    </tr>\n",
       "  </thead>\n",
       "  <tbody>\n",
       "    <tr>\n",
       "      <th>0</th>\n",
       "      <td>1990</td>\n",
       "      <td>0.816</td>\n",
       "      <td>1.572</td>\n",
       "      <td>-3.936</td>\n",
       "      <td>-0.229</td>\n",
       "      <td>-3.484</td>\n",
       "      <td>0.154976</td>\n",
       "      <td>-0.270</td>\n",
       "      <td>Down</td>\n",
       "      <td>0.0</td>\n",
       "    </tr>\n",
       "    <tr>\n",
       "      <th>1</th>\n",
       "      <td>1990</td>\n",
       "      <td>-0.270</td>\n",
       "      <td>0.816</td>\n",
       "      <td>1.572</td>\n",
       "      <td>-3.936</td>\n",
       "      <td>-0.229</td>\n",
       "      <td>0.148574</td>\n",
       "      <td>-2.576</td>\n",
       "      <td>Down</td>\n",
       "      <td>0.0</td>\n",
       "    </tr>\n",
       "    <tr>\n",
       "      <th>2</th>\n",
       "      <td>1990</td>\n",
       "      <td>-2.576</td>\n",
       "      <td>-0.270</td>\n",
       "      <td>0.816</td>\n",
       "      <td>1.572</td>\n",
       "      <td>-3.936</td>\n",
       "      <td>0.159837</td>\n",
       "      <td>3.514</td>\n",
       "      <td>Up</td>\n",
       "      <td>1.0</td>\n",
       "    </tr>\n",
       "    <tr>\n",
       "      <th>3</th>\n",
       "      <td>1990</td>\n",
       "      <td>3.514</td>\n",
       "      <td>-2.576</td>\n",
       "      <td>-0.270</td>\n",
       "      <td>0.816</td>\n",
       "      <td>1.572</td>\n",
       "      <td>0.161630</td>\n",
       "      <td>0.712</td>\n",
       "      <td>Up</td>\n",
       "      <td>1.0</td>\n",
       "    </tr>\n",
       "    <tr>\n",
       "      <th>4</th>\n",
       "      <td>1990</td>\n",
       "      <td>0.712</td>\n",
       "      <td>3.514</td>\n",
       "      <td>-2.576</td>\n",
       "      <td>-0.270</td>\n",
       "      <td>0.816</td>\n",
       "      <td>0.153728</td>\n",
       "      <td>1.178</td>\n",
       "      <td>Up</td>\n",
       "      <td>1.0</td>\n",
       "    </tr>\n",
       "    <tr>\n",
       "      <th>...</th>\n",
       "      <td>...</td>\n",
       "      <td>...</td>\n",
       "      <td>...</td>\n",
       "      <td>...</td>\n",
       "      <td>...</td>\n",
       "      <td>...</td>\n",
       "      <td>...</td>\n",
       "      <td>...</td>\n",
       "      <td>...</td>\n",
       "      <td>...</td>\n",
       "    </tr>\n",
       "    <tr>\n",
       "      <th>1084</th>\n",
       "      <td>2010</td>\n",
       "      <td>-0.861</td>\n",
       "      <td>0.043</td>\n",
       "      <td>-2.173</td>\n",
       "      <td>3.599</td>\n",
       "      <td>0.015</td>\n",
       "      <td>3.205160</td>\n",
       "      <td>2.969</td>\n",
       "      <td>Up</td>\n",
       "      <td>1.0</td>\n",
       "    </tr>\n",
       "    <tr>\n",
       "      <th>1085</th>\n",
       "      <td>2010</td>\n",
       "      <td>2.969</td>\n",
       "      <td>-0.861</td>\n",
       "      <td>0.043</td>\n",
       "      <td>-2.173</td>\n",
       "      <td>3.599</td>\n",
       "      <td>4.242568</td>\n",
       "      <td>1.281</td>\n",
       "      <td>Up</td>\n",
       "      <td>1.0</td>\n",
       "    </tr>\n",
       "    <tr>\n",
       "      <th>1086</th>\n",
       "      <td>2010</td>\n",
       "      <td>1.281</td>\n",
       "      <td>2.969</td>\n",
       "      <td>-0.861</td>\n",
       "      <td>0.043</td>\n",
       "      <td>-2.173</td>\n",
       "      <td>4.835082</td>\n",
       "      <td>0.283</td>\n",
       "      <td>Up</td>\n",
       "      <td>1.0</td>\n",
       "    </tr>\n",
       "    <tr>\n",
       "      <th>1087</th>\n",
       "      <td>2010</td>\n",
       "      <td>0.283</td>\n",
       "      <td>1.281</td>\n",
       "      <td>2.969</td>\n",
       "      <td>-0.861</td>\n",
       "      <td>0.043</td>\n",
       "      <td>4.454044</td>\n",
       "      <td>1.034</td>\n",
       "      <td>Up</td>\n",
       "      <td>1.0</td>\n",
       "    </tr>\n",
       "    <tr>\n",
       "      <th>1088</th>\n",
       "      <td>2010</td>\n",
       "      <td>1.034</td>\n",
       "      <td>0.283</td>\n",
       "      <td>1.281</td>\n",
       "      <td>2.969</td>\n",
       "      <td>-0.861</td>\n",
       "      <td>2.707105</td>\n",
       "      <td>0.069</td>\n",
       "      <td>Up</td>\n",
       "      <td>1.0</td>\n",
       "    </tr>\n",
       "  </tbody>\n",
       "</table>\n",
       "<p>1089 rows × 10 columns</p>\n",
       "</div>"
      ]
     },
     "execution_count": 128,
     "metadata": {},
     "output_type": "execute_result"
    }
   ],
   "execution_count": 128
  },
  {
   "metadata": {
    "ExecuteTime": {
     "end_time": "2024-10-11T21:20:51.630987Z",
     "start_time": "2024-10-11T21:20:51.601108Z"
    }
   },
   "cell_type": "code",
   "source": [
    "results_weekly_log = sm.formula.logit(\"Direction_int ~ Volume + Lag1 + Lag2 + Lag3 + Lag4 + Lag5\", data=weekly_train).fit()\n",
    "summarize(results_weekly_log)"
   ],
   "id": "e558e174bf63987b",
   "outputs": [
    {
     "name": "stdout",
     "output_type": "stream",
     "text": [
      "Optimization terminated successfully.\n",
      "         Current function value: 0.681053\n",
      "         Iterations 4\n"
     ]
    },
    {
     "data": {
      "text/plain": [
       "             coef  std err      z  P>|z|\n",
       "Intercept  0.3295    0.123  2.681  0.007\n",
       "Volume    -0.0878    0.127 -0.691  0.489\n",
       "Lag1      -0.0314    0.034 -0.926  0.354\n",
       "Lag2       0.0376    0.034  1.102  0.271\n",
       "Lag3      -0.0206    0.034 -0.606  0.544\n",
       "Lag4      -0.0369    0.034 -1.083  0.279\n",
       "Lag5      -0.0717    0.034 -2.112  0.035"
      ],
      "text/html": [
       "<div>\n",
       "<style scoped>\n",
       "    .dataframe tbody tr th:only-of-type {\n",
       "        vertical-align: middle;\n",
       "    }\n",
       "\n",
       "    .dataframe tbody tr th {\n",
       "        vertical-align: top;\n",
       "    }\n",
       "\n",
       "    .dataframe thead th {\n",
       "        text-align: right;\n",
       "    }\n",
       "</style>\n",
       "<table border=\"1\" class=\"dataframe\">\n",
       "  <thead>\n",
       "    <tr style=\"text-align: right;\">\n",
       "      <th></th>\n",
       "      <th>coef</th>\n",
       "      <th>std err</th>\n",
       "      <th>z</th>\n",
       "      <th>P&gt;|z|</th>\n",
       "    </tr>\n",
       "  </thead>\n",
       "  <tbody>\n",
       "    <tr>\n",
       "      <th>Intercept</th>\n",
       "      <td>0.3295</td>\n",
       "      <td>0.123</td>\n",
       "      <td>2.681</td>\n",
       "      <td>0.007</td>\n",
       "    </tr>\n",
       "    <tr>\n",
       "      <th>Volume</th>\n",
       "      <td>-0.0878</td>\n",
       "      <td>0.127</td>\n",
       "      <td>-0.691</td>\n",
       "      <td>0.489</td>\n",
       "    </tr>\n",
       "    <tr>\n",
       "      <th>Lag1</th>\n",
       "      <td>-0.0314</td>\n",
       "      <td>0.034</td>\n",
       "      <td>-0.926</td>\n",
       "      <td>0.354</td>\n",
       "    </tr>\n",
       "    <tr>\n",
       "      <th>Lag2</th>\n",
       "      <td>0.0376</td>\n",
       "      <td>0.034</td>\n",
       "      <td>1.102</td>\n",
       "      <td>0.271</td>\n",
       "    </tr>\n",
       "    <tr>\n",
       "      <th>Lag3</th>\n",
       "      <td>-0.0206</td>\n",
       "      <td>0.034</td>\n",
       "      <td>-0.606</td>\n",
       "      <td>0.544</td>\n",
       "    </tr>\n",
       "    <tr>\n",
       "      <th>Lag4</th>\n",
       "      <td>-0.0369</td>\n",
       "      <td>0.034</td>\n",
       "      <td>-1.083</td>\n",
       "      <td>0.279</td>\n",
       "    </tr>\n",
       "    <tr>\n",
       "      <th>Lag5</th>\n",
       "      <td>-0.0717</td>\n",
       "      <td>0.034</td>\n",
       "      <td>-2.112</td>\n",
       "      <td>0.035</td>\n",
       "    </tr>\n",
       "  </tbody>\n",
       "</table>\n",
       "</div>"
      ]
     },
     "execution_count": 129,
     "metadata": {},
     "output_type": "execute_result"
    }
   ],
   "execution_count": 129
  },
  {
   "metadata": {
    "ExecuteTime": {
     "end_time": "2024-10-11T23:33:43.865706Z",
     "start_time": "2024-10-11T23:33:43.849756Z"
    }
   },
   "cell_type": "code",
   "source": [
    "predict_log_train = predict(weekly_train, results_weekly_log)\n",
    "predit_log_train_round = list(map(round, predict_log_train))\n",
    "confusion_log_train = confusion_matrix(weekly_train['Direction_int'], predit_log_train_round)"
   ],
   "id": "41527bfa6214a25e",
   "outputs": [],
   "execution_count": 131
  },
  {
   "metadata": {
    "ExecuteTime": {
     "end_time": "2024-10-11T23:41:40.208553Z",
     "start_time": "2024-10-11T23:41:40.114277Z"
    }
   },
   "cell_type": "code",
   "source": [
    "sns.heatmap(confusion_log_train,\n",
    "            annot=True,\n",
    "            fmt='g',\n",
    "            xticklabels=['Down','Up'],\n",
    "            yticklabels=['Down','Up'],\n",
    "            cmap='Blues')\n",
    "plt.ylabel('Actual', fontsize=13)\n",
    "plt.title('Confusion Matrix', fontsize=17, pad=20)\n",
    "plt.gca().xaxis.set_label_position('top')\n",
    "plt.xlabel('Prediction', fontsize=13)\n",
    "plt.gca().xaxis.tick_top()\n",
    "\n",
    "plt.gca().figure.subplots_adjust(bottom=0.2)\n",
    "plt.gca().figure.text(0.5, 0.05, 'Prediction', ha='center', fontsize=13)\n",
    "plt.show()"
   ],
   "id": "8eb45c5c55e4ebcf",
   "outputs": [
    {
     "data": {
      "text/plain": [
       "<Figure size 640x480 with 2 Axes>"
      ],
      "image/png": "[encoded data removed]"
     },
     "metadata": {},
     "output_type": "display_data"
    }
   ],
   "execution_count": 134
  },
  {
   "metadata": {
    "ExecuteTime": {
     "end_time": "2024-10-12T20:27:21.779737Z",
     "start_time": "2024-10-12T20:27:21.565843Z"
    }
   },
   "cell_type": "code",
   "source": [
    "results_weekly_log_lag2 = sm.formula.logit(\"Direction_int ~ Lag2\", data=weekly_train).fit()\n",
    "summarize(results_weekly_log_lag2)\n",
    "\n",
    "predict_log_train_lag2 = predict(weekly_test, results_weekly_log_lag2)\n",
    "predit_log_train_round_lag2 = list(map(round, predict_log_train_lag2))\n",
    "confusion_log_train_lag2 = confusion_matrix(weekly_test['Direction_int'], predit_log_train_round_lag2)\n",
    "\n",
    "sns.heatmap(confusion_log_train_lag2,\n",
    "            annot=True,\n",
    "            fmt='g',\n",
    "            xticklabels=['Down','Up'],\n",
    "            yticklabels=['Down','Up'],\n",
    "            cmap='Blues')\n",
    "plt.ylabel('Actual', fontsize=13)\n",
    "plt.title('Confusion Matrix', fontsize=17, pad=20)\n",
    "plt.gca().xaxis.set_label_position('top')\n",
    "plt.xlabel('Prediction', fontsize=13)\n",
    "plt.gca().xaxis.tick_top()\n",
    "\n",
    "plt.gca().figure.subplots_adjust(bottom=0.2)\n",
    "plt.gca().figure.text(0.5, 0.05, 'Prediction', ha='center', fontsize=13)\n",
    "plt.show()"
   ],
   "id": "5bda3558b29eb4ed",
   "outputs": [
    {
     "name": "stdout",
     "output_type": "stream",
     "text": [
      "Optimization terminated successfully.\n",
      "         Current function value: 0.685104\n",
      "         Iterations 4\n"
     ]
    },
    {
     "data": {
      "text/plain": [
       "<Figure size 640x480 with 2 Axes>"
      ],
      "image/png": "[encoded data removed]"
     },
     "metadata": {},
     "output_type": "display_data"
    }
   ],
   "execution_count": 198
  },
  {
   "metadata": {},
   "cell_type": "markdown",
   "source": "### LDA",
   "id": "6e57bbec3d937379"
  },
  {
   "metadata": {
    "ExecuteTime": {
     "end_time": "2024-10-12T20:27:24.414381Z",
     "start_time": "2024-10-12T20:27:24.290614Z"
    }
   },
   "cell_type": "code",
   "source": [
    "x_LDA = pd.DataFrame(weekly_train.loc[:, 'Lag2'])\n",
    "y_LDA = weekly_train['Direction_int']\n",
    "LDA = LinearDiscriminantAnalysis()\n",
    "LDA.fit(x_LDA, y_LDA)\n",
    "\n",
    "predict_LDA = LDA.predict(pd.DataFrame(weekly_test.loc[:, 'Lag2']))\n",
    "\n",
    "confusion_LDA = confusion_matrix(weekly_test['Direction_int'], predict_LDA)\n",
    "\n",
    "sns.heatmap(confusion_LDA,\n",
    "            annot=True,\n",
    "            fmt='g',\n",
    "            xticklabels=['Down','Up'],\n",
    "            yticklabels=['Down','Up'],\n",
    "            cmap='Blues')\n",
    "plt.ylabel('Actual', fontsize=13)\n",
    "plt.title('Confusion Matrix', fontsize=17, pad=20)\n",
    "plt.gca().xaxis.set_label_position('top')\n",
    "plt.xlabel('Prediction', fontsize=13)\n",
    "plt.gca().xaxis.tick_top()\n",
    "\n",
    "plt.gca().figure.subplots_adjust(bottom=0.2)\n",
    "plt.gca().figure.text(0.5, 0.05, 'Prediction', ha='center', fontsize=13)\n",
    "plt.show()\n"
   ],
   "id": "b2d77b54fd8d87",
   "outputs": [
    {
     "data": {
      "text/plain": [
       "<Figure size 640x480 with 2 Axes>"
      ],
      "image/png": "[encoded data removed]"
     },
     "metadata": {},
     "output_type": "display_data"
    }
   ],
   "execution_count": 199
  },
  {
   "metadata": {},
   "cell_type": "markdown",
   "source": "### K-neighbors",
   "id": "769f99ddbcc7b229"
  },
  {
   "metadata": {
    "ExecuteTime": {
     "end_time": "2024-10-12T20:27:27.361486Z",
     "start_time": "2024-10-12T20:27:27.209908Z"
    }
   },
   "cell_type": "code",
   "source": [
    "k_neigh = KNeighborsClassifier(n_neighbors=5)\n",
    "k_neigh.fit(x_LDA, y_LDA)\n",
    "predict_k = k_neigh.predict(pd.DataFrame(weekly_test.loc[:, 'Lag2']))\n",
    "\n",
    "confusion_k = confusion_matrix(weekly_test['Direction_int'], predict_k)\n",
    "\n",
    "sns.heatmap(confusion_k,\n",
    "            annot=True,\n",
    "            fmt='g',\n",
    "            xticklabels=['Down','Up'],\n",
    "            yticklabels=['Down','Up'],\n",
    "            cmap='Blues')\n",
    "plt.ylabel('Actual', fontsize=13)\n",
    "plt.title('Confusion Matrix', fontsize=17, pad=20)\n",
    "plt.gca().xaxis.set_label_position('top')\n",
    "plt.xlabel('Prediction', fontsize=13)\n",
    "plt.gca().xaxis.tick_top()\n",
    "\n",
    "plt.gca().figure.subplots_adjust(bottom=0.2)\n",
    "plt.gca().figure.text(0.5, 0.05, 'Prediction', ha='center', fontsize=13)\n",
    "plt.show()"
   ],
   "id": "b335225da039080",
   "outputs": [
    {
     "data": {
      "text/plain": [
       "<Figure size 640x480 with 2 Axes>"
      ],
      "image/png": "[encoded data removed]"
     },
     "metadata": {},
     "output_type": "display_data"
    }
   ],
   "execution_count": 200
  },
  {
   "metadata": {
    "ExecuteTime": {
     "end_time": "2024-10-12T20:27:28.495553Z",
     "start_time": "2024-10-12T20:27:28.337022Z"
    }
   },
   "cell_type": "code",
   "source": [
    "y_pred_proba = LDA.predict_proba(pd.DataFrame(weekly_test.loc[:, 'Lag2']))[::,1]\n",
    "fpr, tpr, _ = metrics.roc_curve(weekly_test['Direction_int'],  y_pred_proba)\n",
    "auc = metrics.roc_auc_score(weekly_test['Direction_int'], y_pred_proba)\n",
    "plt.plot(fpr,tpr,label=\"LDA, auc=\"+str(auc))\n",
    "\n",
    "k_y_pred_proba = k_neigh.predict_proba(pd.DataFrame(weekly_test.loc[:, 'Lag2']))[::,1]\n",
    "fpr, tpr, _ = metrics.roc_curve(weekly_test['Direction_int'],  k_y_pred_proba)\n",
    "auc = metrics.roc_auc_score(weekly_test['Direction_int'], k_y_pred_proba)\n",
    "plt.plot(fpr,tpr,label=\"K-nearest, auc=\"+str(auc))\n",
    "\n",
    "log_y_pred_proba = predict_log_train_lag2\n",
    "fpr, tpr, _ = metrics.roc_curve(weekly_test['Direction_int'],  log_y_pred_proba)\n",
    "auc = metrics.roc_auc_score(weekly_test['Direction_int'], log_y_pred_proba)\n",
    "plt.plot(fpr,tpr,label=\"Log regression, auc=\"+str(auc))\n",
    "\n",
    "plt.plot([0, 1], [0, 1],'r--')\n",
    "plt.legend(loc=4)\n",
    "plt.show()"
   ],
   "id": "222bc090b06c53f0",
   "outputs": [
    {
     "data": {
      "text/plain": [
       "<Figure size 640x480 with 1 Axes>"
      ],
      "image/png": "[encoded data removed]"
     },
     "metadata": {},
     "output_type": "display_data"
    }
   ],
   "execution_count": 201
  },
  {
   "metadata": {},
   "cell_type": "code",
   "outputs": [],
   "execution_count": null,
   "source": "Sx",
   "id": "44f0c1f63540ab26"
  }
 ],
 "metadata": {
  "kernelspec": {
   "display_name": "Python 3",
   "language": "python",
   "name": "python3"
  },
  "language_info": {
   "codemirror_mode": {
    "name": "ipython",
    "version": 2
   },
   "file_extension": ".py",
   "mimetype": "text/x-python",
   "name": "python",
   "nbconvert_exporter": "python",
   "pygments_lexer": "ipython2",
   "version": "2.7.6"
  }
 },
 "nbformat": 4,
 "nbformat_minor": 5
}
