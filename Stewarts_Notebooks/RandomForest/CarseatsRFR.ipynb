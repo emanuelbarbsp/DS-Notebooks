{
 "cells": [
  {
   "cell_type": "markdown",
   "id": "780c23b7-b831-4cd2-a83d-1f07b876e730",
   "metadata": {},
   "source": [
    "# __Carseats DataSet Using RandomForestRegressor__"
   ]
  },
  {
   "cell_type": "markdown",
   "id": "b092b218-4ce2-4073-ba85-6186bf3dc91e",
   "metadata": {},
   "source": [
    "### __Importing Data & Libraries__"
   ]
  },
  {
   "cell_type": "code",
   "execution_count": 297,
   "id": "b9bfb6d5-9c80-46a5-855c-c8ce7ed2226e",
   "metadata": {},
   "outputs": [],
   "source": [
    "import numpy as np \n",
    "import pandas as pd\n",
    "import matplotlib.pyplot as plt\n",
    "import scipy.stats as stats\n",
    "import math\n",
    "import seaborn as sns\n",
    "import statsmodels.api as sm\n",
    "\n",
    "from matplotlib.pyplot import subplots\n",
    "from sklearn import preprocessing\n",
    "from sklearn import utils\n",
    "from sklearn.linear_model import LassoLarsCV, LassoCV, ElasticNet\n",
    "from sklearn.datasets import make_regression\n",
    "from sklearn.metrics import r2_score, auc\n",
    "from sklearn.model_selection import train_test_split, KFold  \n",
    "from sklearn.feature_selection import RFE\n"
   ]
  },
  {
   "cell_type": "code",
   "execution_count": 298,
   "id": "4ec5e7af-7115-4cbc-8207-568296952b66",
   "metadata": {},
   "outputs": [],
   "source": [
    "df = pd.read_csv(\"Carseats.csv\")"
   ]
  },
  {
   "cell_type": "code",
   "execution_count": 299,
   "id": "8449ac5a-0087-4c9b-b7a6-2fadaeaed107",
   "metadata": {},
   "outputs": [
    {
     "data": {
      "text/html": [
       "<div>\n",
       "<style scoped>\n",
       "    .dataframe tbody tr th:only-of-type {\n",
       "        vertical-align: middle;\n",
       "    }\n",
       "\n",
       "    .dataframe tbody tr th {\n",
       "        vertical-align: top;\n",
       "    }\n",
       "\n",
       "    .dataframe thead th {\n",
       "        text-align: right;\n",
       "    }\n",
       "</style>\n",
       "<table border=\"1\" class=\"dataframe\">\n",
       "  <thead>\n",
       "    <tr style=\"text-align: right;\">\n",
       "      <th></th>\n",
       "      <th>Sales</th>\n",
       "      <th>CompPrice</th>\n",
       "      <th>Income</th>\n",
       "      <th>Advertising</th>\n",
       "      <th>Population</th>\n",
       "      <th>Price</th>\n",
       "      <th>ShelveLoc</th>\n",
       "      <th>Age</th>\n",
       "      <th>Education</th>\n",
       "      <th>Urban</th>\n",
       "      <th>US</th>\n",
       "    </tr>\n",
       "  </thead>\n",
       "  <tbody>\n",
       "    <tr>\n",
       "      <th>0</th>\n",
       "      <td>9.50</td>\n",
       "      <td>138</td>\n",
       "      <td>73</td>\n",
       "      <td>11</td>\n",
       "      <td>276</td>\n",
       "      <td>120</td>\n",
       "      <td>Bad</td>\n",
       "      <td>42</td>\n",
       "      <td>17</td>\n",
       "      <td>Yes</td>\n",
       "      <td>Yes</td>\n",
       "    </tr>\n",
       "    <tr>\n",
       "      <th>1</th>\n",
       "      <td>11.22</td>\n",
       "      <td>111</td>\n",
       "      <td>48</td>\n",
       "      <td>16</td>\n",
       "      <td>260</td>\n",
       "      <td>83</td>\n",
       "      <td>Good</td>\n",
       "      <td>65</td>\n",
       "      <td>10</td>\n",
       "      <td>Yes</td>\n",
       "      <td>Yes</td>\n",
       "    </tr>\n",
       "    <tr>\n",
       "      <th>2</th>\n",
       "      <td>10.06</td>\n",
       "      <td>113</td>\n",
       "      <td>35</td>\n",
       "      <td>10</td>\n",
       "      <td>269</td>\n",
       "      <td>80</td>\n",
       "      <td>Medium</td>\n",
       "      <td>59</td>\n",
       "      <td>12</td>\n",
       "      <td>Yes</td>\n",
       "      <td>Yes</td>\n",
       "    </tr>\n",
       "    <tr>\n",
       "      <th>3</th>\n",
       "      <td>7.40</td>\n",
       "      <td>117</td>\n",
       "      <td>100</td>\n",
       "      <td>4</td>\n",
       "      <td>466</td>\n",
       "      <td>97</td>\n",
       "      <td>Medium</td>\n",
       "      <td>55</td>\n",
       "      <td>14</td>\n",
       "      <td>Yes</td>\n",
       "      <td>Yes</td>\n",
       "    </tr>\n",
       "    <tr>\n",
       "      <th>4</th>\n",
       "      <td>4.15</td>\n",
       "      <td>141</td>\n",
       "      <td>64</td>\n",
       "      <td>3</td>\n",
       "      <td>340</td>\n",
       "      <td>128</td>\n",
       "      <td>Bad</td>\n",
       "      <td>38</td>\n",
       "      <td>13</td>\n",
       "      <td>Yes</td>\n",
       "      <td>No</td>\n",
       "    </tr>\n",
       "  </tbody>\n",
       "</table>\n",
       "</div>"
      ],
      "text/plain": [
       "   Sales  CompPrice  Income  Advertising  Population  Price ShelveLoc  Age  \\\n",
       "0   9.50        138      73           11         276    120       Bad   42   \n",
       "1  11.22        111      48           16         260     83      Good   65   \n",
       "2  10.06        113      35           10         269     80    Medium   59   \n",
       "3   7.40        117     100            4         466     97    Medium   55   \n",
       "4   4.15        141      64            3         340    128       Bad   38   \n",
       "\n",
       "   Education Urban   US  \n",
       "0         17   Yes  Yes  \n",
       "1         10   Yes  Yes  \n",
       "2         12   Yes  Yes  \n",
       "3         14   Yes  Yes  \n",
       "4         13   Yes   No  "
      ]
     },
     "execution_count": 299,
     "metadata": {},
     "output_type": "execute_result"
    }
   ],
   "source": [
    "df.head()"
   ]
  },
  {
   "cell_type": "markdown",
   "id": "8f4565a8-9d32-48cc-b120-d1cab8348ffc",
   "metadata": {},
   "source": [
    "### __Cleaning Data__"
   ]
  },
  {
   "cell_type": "code",
   "execution_count": 300,
   "id": "79a69a3f-ff22-4278-8c13-8233dda84675",
   "metadata": {},
   "outputs": [],
   "source": [
    "df['Urban_Yes'] = pd.Series(np.zeros(df.shape[0]))\n",
    "df.loc[df['Urban']=='Yes', 'Urban_Yes'] = 1\n",
    "\n",
    "df['US_Yes'] = pd.Series(np.zeros(df.shape[0]))\n",
    "df.loc[df['US']=='Yes', 'US_Yes'] = 1\n",
    "\n",
    "df['ShelveLoc_rank'] = pd.Series(np.zeros(df.shape[0]))\n",
    "df.loc[df['ShelveLoc']=='Bad', 'ShelveLoc_rank'] = -1\n",
    "df.loc[df['ShelveLoc']=='Good', 'ShelveLoc_rank'] = 1"
   ]
  },
  {
   "cell_type": "code",
   "execution_count": 301,
   "id": "a2240900-b344-48ba-bcde-05e186ec5ed2",
   "metadata": {},
   "outputs": [
    {
     "data": {
      "text/html": [
       "<div>\n",
       "<style scoped>\n",
       "    .dataframe tbody tr th:only-of-type {\n",
       "        vertical-align: middle;\n",
       "    }\n",
       "\n",
       "    .dataframe tbody tr th {\n",
       "        vertical-align: top;\n",
       "    }\n",
       "\n",
       "    .dataframe thead th {\n",
       "        text-align: right;\n",
       "    }\n",
       "</style>\n",
       "<table border=\"1\" class=\"dataframe\">\n",
       "  <thead>\n",
       "    <tr style=\"text-align: right;\">\n",
       "      <th></th>\n",
       "      <th>Sales</th>\n",
       "      <th>CompPrice</th>\n",
       "      <th>Income</th>\n",
       "      <th>Advertising</th>\n",
       "      <th>Population</th>\n",
       "      <th>Price</th>\n",
       "      <th>ShelveLoc</th>\n",
       "      <th>Age</th>\n",
       "      <th>Education</th>\n",
       "      <th>Urban</th>\n",
       "      <th>US</th>\n",
       "      <th>Urban_Yes</th>\n",
       "      <th>US_Yes</th>\n",
       "      <th>ShelveLoc_rank</th>\n",
       "    </tr>\n",
       "  </thead>\n",
       "  <tbody>\n",
       "    <tr>\n",
       "      <th>0</th>\n",
       "      <td>9.50</td>\n",
       "      <td>138</td>\n",
       "      <td>73</td>\n",
       "      <td>11</td>\n",
       "      <td>276</td>\n",
       "      <td>120</td>\n",
       "      <td>Bad</td>\n",
       "      <td>42</td>\n",
       "      <td>17</td>\n",
       "      <td>Yes</td>\n",
       "      <td>Yes</td>\n",
       "      <td>1.0</td>\n",
       "      <td>1.0</td>\n",
       "      <td>-1.0</td>\n",
       "    </tr>\n",
       "    <tr>\n",
       "      <th>1</th>\n",
       "      <td>11.22</td>\n",
       "      <td>111</td>\n",
       "      <td>48</td>\n",
       "      <td>16</td>\n",
       "      <td>260</td>\n",
       "      <td>83</td>\n",
       "      <td>Good</td>\n",
       "      <td>65</td>\n",
       "      <td>10</td>\n",
       "      <td>Yes</td>\n",
       "      <td>Yes</td>\n",
       "      <td>1.0</td>\n",
       "      <td>1.0</td>\n",
       "      <td>1.0</td>\n",
       "    </tr>\n",
       "    <tr>\n",
       "      <th>2</th>\n",
       "      <td>10.06</td>\n",
       "      <td>113</td>\n",
       "      <td>35</td>\n",
       "      <td>10</td>\n",
       "      <td>269</td>\n",
       "      <td>80</td>\n",
       "      <td>Medium</td>\n",
       "      <td>59</td>\n",
       "      <td>12</td>\n",
       "      <td>Yes</td>\n",
       "      <td>Yes</td>\n",
       "      <td>1.0</td>\n",
       "      <td>1.0</td>\n",
       "      <td>0.0</td>\n",
       "    </tr>\n",
       "    <tr>\n",
       "      <th>3</th>\n",
       "      <td>7.40</td>\n",
       "      <td>117</td>\n",
       "      <td>100</td>\n",
       "      <td>4</td>\n",
       "      <td>466</td>\n",
       "      <td>97</td>\n",
       "      <td>Medium</td>\n",
       "      <td>55</td>\n",
       "      <td>14</td>\n",
       "      <td>Yes</td>\n",
       "      <td>Yes</td>\n",
       "      <td>1.0</td>\n",
       "      <td>1.0</td>\n",
       "      <td>0.0</td>\n",
       "    </tr>\n",
       "    <tr>\n",
       "      <th>4</th>\n",
       "      <td>4.15</td>\n",
       "      <td>141</td>\n",
       "      <td>64</td>\n",
       "      <td>3</td>\n",
       "      <td>340</td>\n",
       "      <td>128</td>\n",
       "      <td>Bad</td>\n",
       "      <td>38</td>\n",
       "      <td>13</td>\n",
       "      <td>Yes</td>\n",
       "      <td>No</td>\n",
       "      <td>1.0</td>\n",
       "      <td>0.0</td>\n",
       "      <td>-1.0</td>\n",
       "    </tr>\n",
       "    <tr>\n",
       "      <th>...</th>\n",
       "      <td>...</td>\n",
       "      <td>...</td>\n",
       "      <td>...</td>\n",
       "      <td>...</td>\n",
       "      <td>...</td>\n",
       "      <td>...</td>\n",
       "      <td>...</td>\n",
       "      <td>...</td>\n",
       "      <td>...</td>\n",
       "      <td>...</td>\n",
       "      <td>...</td>\n",
       "      <td>...</td>\n",
       "      <td>...</td>\n",
       "      <td>...</td>\n",
       "    </tr>\n",
       "    <tr>\n",
       "      <th>395</th>\n",
       "      <td>12.57</td>\n",
       "      <td>138</td>\n",
       "      <td>108</td>\n",
       "      <td>17</td>\n",
       "      <td>203</td>\n",
       "      <td>128</td>\n",
       "      <td>Good</td>\n",
       "      <td>33</td>\n",
       "      <td>14</td>\n",
       "      <td>Yes</td>\n",
       "      <td>Yes</td>\n",
       "      <td>1.0</td>\n",
       "      <td>1.0</td>\n",
       "      <td>1.0</td>\n",
       "    </tr>\n",
       "    <tr>\n",
       "      <th>396</th>\n",
       "      <td>6.14</td>\n",
       "      <td>139</td>\n",
       "      <td>23</td>\n",
       "      <td>3</td>\n",
       "      <td>37</td>\n",
       "      <td>120</td>\n",
       "      <td>Medium</td>\n",
       "      <td>55</td>\n",
       "      <td>11</td>\n",
       "      <td>No</td>\n",
       "      <td>Yes</td>\n",
       "      <td>0.0</td>\n",
       "      <td>1.0</td>\n",
       "      <td>0.0</td>\n",
       "    </tr>\n",
       "    <tr>\n",
       "      <th>397</th>\n",
       "      <td>7.41</td>\n",
       "      <td>162</td>\n",
       "      <td>26</td>\n",
       "      <td>12</td>\n",
       "      <td>368</td>\n",
       "      <td>159</td>\n",
       "      <td>Medium</td>\n",
       "      <td>40</td>\n",
       "      <td>18</td>\n",
       "      <td>Yes</td>\n",
       "      <td>Yes</td>\n",
       "      <td>1.0</td>\n",
       "      <td>1.0</td>\n",
       "      <td>0.0</td>\n",
       "    </tr>\n",
       "    <tr>\n",
       "      <th>398</th>\n",
       "      <td>5.94</td>\n",
       "      <td>100</td>\n",
       "      <td>79</td>\n",
       "      <td>7</td>\n",
       "      <td>284</td>\n",
       "      <td>95</td>\n",
       "      <td>Bad</td>\n",
       "      <td>50</td>\n",
       "      <td>12</td>\n",
       "      <td>Yes</td>\n",
       "      <td>Yes</td>\n",
       "      <td>1.0</td>\n",
       "      <td>1.0</td>\n",
       "      <td>-1.0</td>\n",
       "    </tr>\n",
       "    <tr>\n",
       "      <th>399</th>\n",
       "      <td>9.71</td>\n",
       "      <td>134</td>\n",
       "      <td>37</td>\n",
       "      <td>0</td>\n",
       "      <td>27</td>\n",
       "      <td>120</td>\n",
       "      <td>Good</td>\n",
       "      <td>49</td>\n",
       "      <td>16</td>\n",
       "      <td>Yes</td>\n",
       "      <td>Yes</td>\n",
       "      <td>1.0</td>\n",
       "      <td>1.0</td>\n",
       "      <td>1.0</td>\n",
       "    </tr>\n",
       "  </tbody>\n",
       "</table>\n",
       "<p>400 rows × 14 columns</p>\n",
       "</div>"
      ],
      "text/plain": [
       "     Sales  CompPrice  Income  Advertising  Population  Price ShelveLoc  Age  \\\n",
       "0     9.50        138      73           11         276    120       Bad   42   \n",
       "1    11.22        111      48           16         260     83      Good   65   \n",
       "2    10.06        113      35           10         269     80    Medium   59   \n",
       "3     7.40        117     100            4         466     97    Medium   55   \n",
       "4     4.15        141      64            3         340    128       Bad   38   \n",
       "..     ...        ...     ...          ...         ...    ...       ...  ...   \n",
       "395  12.57        138     108           17         203    128      Good   33   \n",
       "396   6.14        139      23            3          37    120    Medium   55   \n",
       "397   7.41        162      26           12         368    159    Medium   40   \n",
       "398   5.94        100      79            7         284     95       Bad   50   \n",
       "399   9.71        134      37            0          27    120      Good   49   \n",
       "\n",
       "     Education Urban   US  Urban_Yes  US_Yes  ShelveLoc_rank  \n",
       "0           17   Yes  Yes        1.0     1.0            -1.0  \n",
       "1           10   Yes  Yes        1.0     1.0             1.0  \n",
       "2           12   Yes  Yes        1.0     1.0             0.0  \n",
       "3           14   Yes  Yes        1.0     1.0             0.0  \n",
       "4           13   Yes   No        1.0     0.0            -1.0  \n",
       "..         ...   ...  ...        ...     ...             ...  \n",
       "395         14   Yes  Yes        1.0     1.0             1.0  \n",
       "396         11    No  Yes        0.0     1.0             0.0  \n",
       "397         18   Yes  Yes        1.0     1.0             0.0  \n",
       "398         12   Yes  Yes        1.0     1.0            -1.0  \n",
       "399         16   Yes  Yes        1.0     1.0             1.0  \n",
       "\n",
       "[400 rows x 14 columns]"
      ]
     },
     "execution_count": 301,
     "metadata": {},
     "output_type": "execute_result"
    }
   ],
   "source": [
    "df"
   ]
  },
  {
   "cell_type": "code",
   "execution_count": 302,
   "id": "177e2c54-23f2-4af8-a04a-6e0d5112d37f",
   "metadata": {},
   "outputs": [],
   "source": [
    "del df[\"ShelveLoc\"]\n",
    "del df[\"Urban\"]\n",
    "del df[\"US\"]"
   ]
  },
  {
   "cell_type": "code",
   "execution_count": 303,
   "id": "7788ed2e-57d2-430b-8f02-49ca04119a33",
   "metadata": {},
   "outputs": [
    {
     "data": {
      "text/plain": [
       "Sales             0\n",
       "CompPrice         0\n",
       "Income            0\n",
       "Advertising       0\n",
       "Population        0\n",
       "Price             0\n",
       "Age               0\n",
       "Education         0\n",
       "Urban_Yes         0\n",
       "US_Yes            0\n",
       "ShelveLoc_rank    0\n",
       "dtype: int64"
      ]
     },
     "execution_count": 303,
     "metadata": {},
     "output_type": "execute_result"
    }
   ],
   "source": [
    "df.isnull().sum()"
   ]
  },
  {
   "cell_type": "code",
   "execution_count": 304,
   "id": "2eee4fb3-812a-46fb-9f27-f299617c7726",
   "metadata": {},
   "outputs": [
    {
     "data": {
      "text/html": [
       "<div>\n",
       "<style scoped>\n",
       "    .dataframe tbody tr th:only-of-type {\n",
       "        vertical-align: middle;\n",
       "    }\n",
       "\n",
       "    .dataframe tbody tr th {\n",
       "        vertical-align: top;\n",
       "    }\n",
       "\n",
       "    .dataframe thead th {\n",
       "        text-align: right;\n",
       "    }\n",
       "</style>\n",
       "<table border=\"1\" class=\"dataframe\">\n",
       "  <thead>\n",
       "    <tr style=\"text-align: right;\">\n",
       "      <th></th>\n",
       "      <th>Sales</th>\n",
       "      <th>CompPrice</th>\n",
       "      <th>Income</th>\n",
       "      <th>Advertising</th>\n",
       "      <th>Population</th>\n",
       "      <th>Price</th>\n",
       "      <th>Age</th>\n",
       "      <th>Education</th>\n",
       "      <th>Urban_Yes</th>\n",
       "      <th>US_Yes</th>\n",
       "      <th>ShelveLoc_rank</th>\n",
       "    </tr>\n",
       "  </thead>\n",
       "  <tbody>\n",
       "    <tr>\n",
       "      <th>count</th>\n",
       "      <td>400.000000</td>\n",
       "      <td>400.000000</td>\n",
       "      <td>400.000000</td>\n",
       "      <td>400.000000</td>\n",
       "      <td>400.000000</td>\n",
       "      <td>400.000000</td>\n",
       "      <td>400.000000</td>\n",
       "      <td>400.000000</td>\n",
       "      <td>400.000000</td>\n",
       "      <td>400.000000</td>\n",
       "      <td>400.000000</td>\n",
       "    </tr>\n",
       "    <tr>\n",
       "      <th>mean</th>\n",
       "      <td>7.496325</td>\n",
       "      <td>124.975000</td>\n",
       "      <td>68.657500</td>\n",
       "      <td>6.635000</td>\n",
       "      <td>264.840000</td>\n",
       "      <td>115.795000</td>\n",
       "      <td>53.322500</td>\n",
       "      <td>13.900000</td>\n",
       "      <td>0.705000</td>\n",
       "      <td>0.645000</td>\n",
       "      <td>-0.027500</td>\n",
       "    </tr>\n",
       "    <tr>\n",
       "      <th>std</th>\n",
       "      <td>2.824115</td>\n",
       "      <td>15.334512</td>\n",
       "      <td>27.986037</td>\n",
       "      <td>6.650364</td>\n",
       "      <td>147.376436</td>\n",
       "      <td>23.676664</td>\n",
       "      <td>16.200297</td>\n",
       "      <td>2.620528</td>\n",
       "      <td>0.456614</td>\n",
       "      <td>0.479113</td>\n",
       "      <td>0.672961</td>\n",
       "    </tr>\n",
       "    <tr>\n",
       "      <th>min</th>\n",
       "      <td>0.000000</td>\n",
       "      <td>77.000000</td>\n",
       "      <td>21.000000</td>\n",
       "      <td>0.000000</td>\n",
       "      <td>10.000000</td>\n",
       "      <td>24.000000</td>\n",
       "      <td>25.000000</td>\n",
       "      <td>10.000000</td>\n",
       "      <td>0.000000</td>\n",
       "      <td>0.000000</td>\n",
       "      <td>-1.000000</td>\n",
       "    </tr>\n",
       "    <tr>\n",
       "      <th>25%</th>\n",
       "      <td>5.390000</td>\n",
       "      <td>115.000000</td>\n",
       "      <td>42.750000</td>\n",
       "      <td>0.000000</td>\n",
       "      <td>139.000000</td>\n",
       "      <td>100.000000</td>\n",
       "      <td>39.750000</td>\n",
       "      <td>12.000000</td>\n",
       "      <td>0.000000</td>\n",
       "      <td>0.000000</td>\n",
       "      <td>0.000000</td>\n",
       "    </tr>\n",
       "    <tr>\n",
       "      <th>50%</th>\n",
       "      <td>7.490000</td>\n",
       "      <td>125.000000</td>\n",
       "      <td>69.000000</td>\n",
       "      <td>5.000000</td>\n",
       "      <td>272.000000</td>\n",
       "      <td>117.000000</td>\n",
       "      <td>54.500000</td>\n",
       "      <td>14.000000</td>\n",
       "      <td>1.000000</td>\n",
       "      <td>1.000000</td>\n",
       "      <td>0.000000</td>\n",
       "    </tr>\n",
       "    <tr>\n",
       "      <th>75%</th>\n",
       "      <td>9.320000</td>\n",
       "      <td>135.000000</td>\n",
       "      <td>91.000000</td>\n",
       "      <td>12.000000</td>\n",
       "      <td>398.500000</td>\n",
       "      <td>131.000000</td>\n",
       "      <td>66.000000</td>\n",
       "      <td>16.000000</td>\n",
       "      <td>1.000000</td>\n",
       "      <td>1.000000</td>\n",
       "      <td>0.000000</td>\n",
       "    </tr>\n",
       "    <tr>\n",
       "      <th>max</th>\n",
       "      <td>16.270000</td>\n",
       "      <td>175.000000</td>\n",
       "      <td>120.000000</td>\n",
       "      <td>29.000000</td>\n",
       "      <td>509.000000</td>\n",
       "      <td>191.000000</td>\n",
       "      <td>80.000000</td>\n",
       "      <td>18.000000</td>\n",
       "      <td>1.000000</td>\n",
       "      <td>1.000000</td>\n",
       "      <td>1.000000</td>\n",
       "    </tr>\n",
       "  </tbody>\n",
       "</table>\n",
       "</div>"
      ],
      "text/plain": [
       "            Sales   CompPrice      Income  Advertising  Population  \\\n",
       "count  400.000000  400.000000  400.000000   400.000000  400.000000   \n",
       "mean     7.496325  124.975000   68.657500     6.635000  264.840000   \n",
       "std      2.824115   15.334512   27.986037     6.650364  147.376436   \n",
       "min      0.000000   77.000000   21.000000     0.000000   10.000000   \n",
       "25%      5.390000  115.000000   42.750000     0.000000  139.000000   \n",
       "50%      7.490000  125.000000   69.000000     5.000000  272.000000   \n",
       "75%      9.320000  135.000000   91.000000    12.000000  398.500000   \n",
       "max     16.270000  175.000000  120.000000    29.000000  509.000000   \n",
       "\n",
       "            Price         Age   Education   Urban_Yes      US_Yes  \\\n",
       "count  400.000000  400.000000  400.000000  400.000000  400.000000   \n",
       "mean   115.795000   53.322500   13.900000    0.705000    0.645000   \n",
       "std     23.676664   16.200297    2.620528    0.456614    0.479113   \n",
       "min     24.000000   25.000000   10.000000    0.000000    0.000000   \n",
       "25%    100.000000   39.750000   12.000000    0.000000    0.000000   \n",
       "50%    117.000000   54.500000   14.000000    1.000000    1.000000   \n",
       "75%    131.000000   66.000000   16.000000    1.000000    1.000000   \n",
       "max    191.000000   80.000000   18.000000    1.000000    1.000000   \n",
       "\n",
       "       ShelveLoc_rank  \n",
       "count      400.000000  \n",
       "mean        -0.027500  \n",
       "std          0.672961  \n",
       "min         -1.000000  \n",
       "25%          0.000000  \n",
       "50%          0.000000  \n",
       "75%          0.000000  \n",
       "max          1.000000  "
      ]
     },
     "execution_count": 304,
     "metadata": {},
     "output_type": "execute_result"
    }
   ],
   "source": [
    "df.describe()"
   ]
  },
  {
   "cell_type": "code",
   "execution_count": 305,
   "id": "73cb7b1e-c506-4b9c-86d6-eb4732b8665c",
   "metadata": {},
   "outputs": [
    {
     "name": "stdout",
     "output_type": "stream",
     "text": [
      "<class 'pandas.core.frame.DataFrame'>\n",
      "RangeIndex: 400 entries, 0 to 399\n",
      "Data columns (total 11 columns):\n",
      " #   Column          Non-Null Count  Dtype  \n",
      "---  ------          --------------  -----  \n",
      " 0   Sales           400 non-null    float64\n",
      " 1   CompPrice       400 non-null    int64  \n",
      " 2   Income          400 non-null    int64  \n",
      " 3   Advertising     400 non-null    int64  \n",
      " 4   Population      400 non-null    int64  \n",
      " 5   Price           400 non-null    int64  \n",
      " 6   Age             400 non-null    int64  \n",
      " 7   Education       400 non-null    int64  \n",
      " 8   Urban_Yes       400 non-null    float64\n",
      " 9   US_Yes          400 non-null    float64\n",
      " 10  ShelveLoc_rank  400 non-null    float64\n",
      "dtypes: float64(4), int64(7)\n",
      "memory usage: 34.5 KB\n"
     ]
    }
   ],
   "source": [
    "df.info()"
   ]
  },
  {
   "cell_type": "markdown",
   "id": "5699b4d2-1870-4735-b6ef-39122832edac",
   "metadata": {},
   "source": [
    "### __Train/Testing Set Split__"
   ]
  },
  {
   "cell_type": "code",
   "execution_count": 306,
   "id": "93a12e88-1f95-4c37-81a7-2cf66f91da18",
   "metadata": {},
   "outputs": [],
   "source": [
    "X = df.iloc[:, 1:11]\n",
    "X['intercept']= np.ones(df.shape[0])\n",
    "y = df.iloc[:, 0]"
   ]
  },
  {
   "cell_type": "code",
   "execution_count": 307,
   "id": "790f7d0d-2b68-4fc2-b79e-6b3e1b14415f",
   "metadata": {},
   "outputs": [
    {
     "data": {
      "text/html": [
       "<div>\n",
       "<style scoped>\n",
       "    .dataframe tbody tr th:only-of-type {\n",
       "        vertical-align: middle;\n",
       "    }\n",
       "\n",
       "    .dataframe tbody tr th {\n",
       "        vertical-align: top;\n",
       "    }\n",
       "\n",
       "    .dataframe thead th {\n",
       "        text-align: right;\n",
       "    }\n",
       "</style>\n",
       "<table border=\"1\" class=\"dataframe\">\n",
       "  <thead>\n",
       "    <tr style=\"text-align: right;\">\n",
       "      <th></th>\n",
       "      <th>CompPrice</th>\n",
       "      <th>Income</th>\n",
       "      <th>Advertising</th>\n",
       "      <th>Population</th>\n",
       "      <th>Price</th>\n",
       "      <th>Age</th>\n",
       "      <th>Education</th>\n",
       "      <th>Urban_Yes</th>\n",
       "      <th>US_Yes</th>\n",
       "      <th>ShelveLoc_rank</th>\n",
       "      <th>intercept</th>\n",
       "    </tr>\n",
       "  </thead>\n",
       "  <tbody>\n",
       "    <tr>\n",
       "      <th>0</th>\n",
       "      <td>138</td>\n",
       "      <td>73</td>\n",
       "      <td>11</td>\n",
       "      <td>276</td>\n",
       "      <td>120</td>\n",
       "      <td>42</td>\n",
       "      <td>17</td>\n",
       "      <td>1.0</td>\n",
       "      <td>1.0</td>\n",
       "      <td>-1.0</td>\n",
       "      <td>1.0</td>\n",
       "    </tr>\n",
       "    <tr>\n",
       "      <th>1</th>\n",
       "      <td>111</td>\n",
       "      <td>48</td>\n",
       "      <td>16</td>\n",
       "      <td>260</td>\n",
       "      <td>83</td>\n",
       "      <td>65</td>\n",
       "      <td>10</td>\n",
       "      <td>1.0</td>\n",
       "      <td>1.0</td>\n",
       "      <td>1.0</td>\n",
       "      <td>1.0</td>\n",
       "    </tr>\n",
       "    <tr>\n",
       "      <th>2</th>\n",
       "      <td>113</td>\n",
       "      <td>35</td>\n",
       "      <td>10</td>\n",
       "      <td>269</td>\n",
       "      <td>80</td>\n",
       "      <td>59</td>\n",
       "      <td>12</td>\n",
       "      <td>1.0</td>\n",
       "      <td>1.0</td>\n",
       "      <td>0.0</td>\n",
       "      <td>1.0</td>\n",
       "    </tr>\n",
       "    <tr>\n",
       "      <th>3</th>\n",
       "      <td>117</td>\n",
       "      <td>100</td>\n",
       "      <td>4</td>\n",
       "      <td>466</td>\n",
       "      <td>97</td>\n",
       "      <td>55</td>\n",
       "      <td>14</td>\n",
       "      <td>1.0</td>\n",
       "      <td>1.0</td>\n",
       "      <td>0.0</td>\n",
       "      <td>1.0</td>\n",
       "    </tr>\n",
       "    <tr>\n",
       "      <th>4</th>\n",
       "      <td>141</td>\n",
       "      <td>64</td>\n",
       "      <td>3</td>\n",
       "      <td>340</td>\n",
       "      <td>128</td>\n",
       "      <td>38</td>\n",
       "      <td>13</td>\n",
       "      <td>1.0</td>\n",
       "      <td>0.0</td>\n",
       "      <td>-1.0</td>\n",
       "      <td>1.0</td>\n",
       "    </tr>\n",
       "  </tbody>\n",
       "</table>\n",
       "</div>"
      ],
      "text/plain": [
       "   CompPrice  Income  Advertising  Population  Price  Age  Education  \\\n",
       "0        138      73           11         276    120   42         17   \n",
       "1        111      48           16         260     83   65         10   \n",
       "2        113      35           10         269     80   59         12   \n",
       "3        117     100            4         466     97   55         14   \n",
       "4        141      64            3         340    128   38         13   \n",
       "\n",
       "   Urban_Yes  US_Yes  ShelveLoc_rank  intercept  \n",
       "0        1.0     1.0            -1.0        1.0  \n",
       "1        1.0     1.0             1.0        1.0  \n",
       "2        1.0     1.0             0.0        1.0  \n",
       "3        1.0     1.0             0.0        1.0  \n",
       "4        1.0     0.0            -1.0        1.0  "
      ]
     },
     "execution_count": 307,
     "metadata": {},
     "output_type": "execute_result"
    }
   ],
   "source": [
    "X.head()"
   ]
  },
  {
   "cell_type": "code",
   "execution_count": 308,
   "id": "1e1e511e-3dfa-4ad1-b72b-34e1bd573e28",
   "metadata": {},
   "outputs": [
    {
     "data": {
      "text/plain": [
       "0     9.50\n",
       "1    11.22\n",
       "2    10.06\n",
       "3     7.40\n",
       "4     4.15\n",
       "Name: Sales, dtype: float64"
      ]
     },
     "execution_count": 308,
     "metadata": {},
     "output_type": "execute_result"
    }
   ],
   "source": [
    "y.head()"
   ]
  },
  {
   "cell_type": "code",
   "execution_count": 309,
   "id": "bcb94e31-b29f-4163-9f00-9b2caac20b28",
   "metadata": {},
   "outputs": [],
   "source": [
    "from sklearn.model_selection import train_test_split\n",
    "X_train, X_test, y_train, y_test = train_test_split(X,y, test_size=0.3, random_state = 21)"
   ]
  },
  {
   "cell_type": "markdown",
   "id": "905f2098-aa19-4f25-85bc-6d17f19b69f3",
   "metadata": {},
   "source": [
    "### __RandomForestRegressor Integration__"
   ]
  },
  {
   "cell_type": "code",
   "execution_count": 310,
   "id": "b805646e-6e26-4cff-9eb3-5022af99f320",
   "metadata": {},
   "outputs": [],
   "source": [
    "from sklearn.ensemble import RandomForestRegressor\n",
    "rfr = RandomForestRegressor(random_state= 21)"
   ]
  },
  {
   "cell_type": "code",
   "execution_count": 311,
   "id": "3fa13e57-ac94-4b20-ad6d-8e4da08174eb",
   "metadata": {},
   "outputs": [
    {
     "data": {
      "text/html": [
       "<style>#sk-container-id-17 {color: black;background-color: white;}#sk-container-id-17 pre{padding: 0;}#sk-container-id-17 div.sk-toggleable {background-color: white;}#sk-container-id-17 label.sk-toggleable__label {cursor: pointer;display: block;width: 100%;margin-bottom: 0;padding: 0.3em;box-sizing: border-box;text-align: center;}#sk-container-id-17 label.sk-toggleable__label-arrow:before {content: \"▸\";float: left;margin-right: 0.25em;color: #696969;}#sk-container-id-17 label.sk-toggleable__label-arrow:hover:before {color: black;}#sk-container-id-17 div.sk-estimator:hover label.sk-toggleable__label-arrow:before {color: black;}#sk-container-id-17 div.sk-toggleable__content {max-height: 0;max-width: 0;overflow: hidden;text-align: left;background-color: #f0f8ff;}#sk-container-id-17 div.sk-toggleable__content pre {margin: 0.2em;color: black;border-radius: 0.25em;background-color: #f0f8ff;}#sk-container-id-17 input.sk-toggleable__control:checked~div.sk-toggleable__content {max-height: 200px;max-width: 100%;overflow: auto;}#sk-container-id-17 input.sk-toggleable__control:checked~label.sk-toggleable__label-arrow:before {content: \"▾\";}#sk-container-id-17 div.sk-estimator input.sk-toggleable__control:checked~label.sk-toggleable__label {background-color: #d4ebff;}#sk-container-id-17 div.sk-label input.sk-toggleable__control:checked~label.sk-toggleable__label {background-color: #d4ebff;}#sk-container-id-17 input.sk-hidden--visually {border: 0;clip: rect(1px 1px 1px 1px);clip: rect(1px, 1px, 1px, 1px);height: 1px;margin: -1px;overflow: hidden;padding: 0;position: absolute;width: 1px;}#sk-container-id-17 div.sk-estimator {font-family: monospace;background-color: #f0f8ff;border: 1px dotted black;border-radius: 0.25em;box-sizing: border-box;margin-bottom: 0.5em;}#sk-container-id-17 div.sk-estimator:hover {background-color: #d4ebff;}#sk-container-id-17 div.sk-parallel-item::after {content: \"\";width: 100%;border-bottom: 1px solid gray;flex-grow: 1;}#sk-container-id-17 div.sk-label:hover label.sk-toggleable__label {background-color: #d4ebff;}#sk-container-id-17 div.sk-serial::before {content: \"\";position: absolute;border-left: 1px solid gray;box-sizing: border-box;top: 0;bottom: 0;left: 50%;z-index: 0;}#sk-container-id-17 div.sk-serial {display: flex;flex-direction: column;align-items: center;background-color: white;padding-right: 0.2em;padding-left: 0.2em;position: relative;}#sk-container-id-17 div.sk-item {position: relative;z-index: 1;}#sk-container-id-17 div.sk-parallel {display: flex;align-items: stretch;justify-content: center;background-color: white;position: relative;}#sk-container-id-17 div.sk-item::before, #sk-container-id-17 div.sk-parallel-item::before {content: \"\";position: absolute;border-left: 1px solid gray;box-sizing: border-box;top: 0;bottom: 0;left: 50%;z-index: -1;}#sk-container-id-17 div.sk-parallel-item {display: flex;flex-direction: column;z-index: 1;position: relative;background-color: white;}#sk-container-id-17 div.sk-parallel-item:first-child::after {align-self: flex-end;width: 50%;}#sk-container-id-17 div.sk-parallel-item:last-child::after {align-self: flex-start;width: 50%;}#sk-container-id-17 div.sk-parallel-item:only-child::after {width: 0;}#sk-container-id-17 div.sk-dashed-wrapped {border: 1px dashed gray;margin: 0 0.4em 0.5em 0.4em;box-sizing: border-box;padding-bottom: 0.4em;background-color: white;}#sk-container-id-17 div.sk-label label {font-family: monospace;font-weight: bold;display: inline-block;line-height: 1.2em;}#sk-container-id-17 div.sk-label-container {text-align: center;}#sk-container-id-17 div.sk-container {/* jupyter's `normalize.less` sets `[hidden] { display: none; }` but bootstrap.min.css set `[hidden] { display: none !important; }` so we also need the `!important` here to be able to override the default hidden behavior on the sphinx rendered scikit-learn.org. See: https://github.com/scikit-learn/scikit-learn/issues/21755 */display: inline-block !important;position: relative;}#sk-container-id-17 div.sk-text-repr-fallback {display: none;}</style><div id=\"sk-container-id-17\" class=\"sk-top-container\"><div class=\"sk-text-repr-fallback\"><pre>RandomForestRegressor(random_state=21)</pre><b>In a Jupyter environment, please rerun this cell to show the HTML representation or trust the notebook. <br />On GitHub, the HTML representation is unable to render, please try loading this page with nbviewer.org.</b></div><div class=\"sk-container\" hidden><div class=\"sk-item\"><div class=\"sk-estimator sk-toggleable\"><input class=\"sk-toggleable__control sk-hidden--visually\" id=\"sk-estimator-id-33\" type=\"checkbox\" checked><label for=\"sk-estimator-id-33\" class=\"sk-toggleable__label sk-toggleable__label-arrow\">RandomForestRegressor</label><div class=\"sk-toggleable__content\"><pre>RandomForestRegressor(random_state=21)</pre></div></div></div></div></div>"
      ],
      "text/plain": [
       "RandomForestRegressor(random_state=21)"
      ]
     },
     "execution_count": 311,
     "metadata": {},
     "output_type": "execute_result"
    }
   ],
   "source": [
    "rfr.fit(X_train, y_train)"
   ]
  },
  {
   "cell_type": "code",
   "execution_count": 312,
   "id": "45235165-4f9a-410a-95c9-0305d18abeba",
   "metadata": {},
   "outputs": [],
   "source": [
    "y_pred = rfr.predict(X_test)"
   ]
  },
  {
   "cell_type": "code",
   "execution_count": 313,
   "id": "7482dc98-c712-489f-8d57-3d092cedc0a6",
   "metadata": {},
   "outputs": [
    {
     "data": {
      "text/plain": [
       "array([ 4.0171,  6.6718,  5.9925,  5.5445,  5.9706,  5.0019, 10.391 ,\n",
       "        6.039 ,  9.8483,  5.6197,  9.7973,  4.9345,  6.1177,  5.8937,\n",
       "        7.0759,  6.4713,  6.3832,  9.8182, 11.4889,  6.0462,  6.7425,\n",
       "        9.3316,  6.3451,  4.5415,  7.1058,  7.4658,  8.7793,  6.6685,\n",
       "        6.4571,  4.016 ,  5.4231,  4.8096,  9.6727,  6.2988,  7.717 ,\n",
       "        5.0364,  5.6458, 10.6177,  7.5312,  7.7889,  7.0498, 11.9651,\n",
       "       10.9164,  4.7634,  6.919 ,  6.3247,  9.6112,  6.3772,  6.2635,\n",
       "        6.8575, 10.4996,  7.1075, 10.4515,  6.5092,  6.2986, 10.1227,\n",
       "        9.2042,  4.9924,  5.2505,  7.7702,  5.2848, 10.6396,  7.9327,\n",
       "        5.8169,  5.7017,  5.2424,  4.8875,  7.1854,  7.9074,  7.3752,\n",
       "        6.9343,  6.9259,  6.8121,  6.6671,  5.3282,  4.4153,  5.022 ,\n",
       "        7.6934,  8.493 ,  5.3089,  7.7822,  7.3608, 12.5928,  6.4659,\n",
       "        7.4767,  5.1818,  4.7099,  5.9791,  4.7759,  9.1357,  5.8695,\n",
       "        8.4597, 11.1238,  8.6125, 12.3536,  5.8366,  5.2616,  8.1419,\n",
       "        7.5627,  5.4793,  8.5462,  5.4129,  8.085 ,  6.6425,  5.1195,\n",
       "        6.5164,  9.9281,  4.0358,  7.1268,  4.4369,  7.9147,  5.1122,\n",
       "        7.3543,  6.5577,  9.3791,  6.0217,  8.8148,  9.405 ,  8.9906,\n",
       "        5.3499])"
      ]
     },
     "execution_count": 313,
     "metadata": {},
     "output_type": "execute_result"
    }
   ],
   "source": [
    "y_pred"
   ]
  },
  {
   "cell_type": "code",
   "execution_count": 314,
   "id": "471df49b-d65f-434f-b7bc-e8bb3c71569f",
   "metadata": {},
   "outputs": [],
   "source": [
    "from sklearn.metrics import mean_absolute_error, mean_squared_error, r2_score"
   ]
  },
  {
   "cell_type": "code",
   "execution_count": 315,
   "id": "67fa5c97-2350-4594-ae04-d6e2031a55ce",
   "metadata": {},
   "outputs": [
    {
     "data": {
      "text/plain": [
       "1.2626566666666659"
      ]
     },
     "execution_count": 315,
     "metadata": {},
     "output_type": "execute_result"
    }
   ],
   "source": [
    "mean_absolute_error(y_pred, y_test)"
   ]
  },
  {
   "cell_type": "code",
   "execution_count": 316,
   "id": "7cac9527-10e8-400d-a9f2-cde46736927a",
   "metadata": {},
   "outputs": [
    {
     "data": {
      "text/plain": [
       "2.564179406333332"
      ]
     },
     "execution_count": 316,
     "metadata": {},
     "output_type": "execute_result"
    }
   ],
   "source": [
    "mean_squared_error(y_pred, y_test)"
   ]
  },
  {
   "cell_type": "code",
   "execution_count": 317,
   "id": "dda9d3d3-908e-4237-897e-86b75e0ccda4",
   "metadata": {},
   "outputs": [
    {
     "data": {
      "text/plain": [
       "0.3343133367975518"
      ]
     },
     "execution_count": 317,
     "metadata": {},
     "output_type": "execute_result"
    }
   ],
   "source": [
    "r2_score(y_pred, y_test)"
   ]
  },
  {
   "cell_type": "code",
   "execution_count": 318,
   "id": "164c78c1-19f5-4588-b0bb-153a8b6f69e1",
   "metadata": {},
   "outputs": [],
   "source": [
    "param_grid = {\n",
    "    'n_estimators': [100,200,300], \n",
    "    'max_depth': [10,20,30], \n",
    "    'min_samples_split': [2,5,10], \n",
    "    'min_samples_leaf': [1,2,4]\n",
    "}"
   ]
  },
  {
   "cell_type": "code",
   "execution_count": 319,
   "id": "675aa893-bb3c-4834-a4b4-1343695e92a5",
   "metadata": {},
   "outputs": [],
   "source": [
    "from sklearn.model_selection import GridSearchCV"
   ]
  },
  {
   "cell_type": "code",
   "execution_count": 320,
   "id": "7252daaa-6c73-4d5f-90c8-667ec8d55f5d",
   "metadata": {},
   "outputs": [],
   "source": [
    "rfr_cv = GridSearchCV(estimator= rfr, param_grid=param_grid, cv=3, scoring= \"neg_mean_squared_error\", n_jobs= -1)"
   ]
  },
  {
   "cell_type": "code",
   "execution_count": 321,
   "id": "e6409e81-5dc7-41f1-a498-f0bdf7067d0a",
   "metadata": {},
   "outputs": [
    {
     "data": {
      "text/html": [
       "<style>#sk-container-id-18 {color: black;background-color: white;}#sk-container-id-18 pre{padding: 0;}#sk-container-id-18 div.sk-toggleable {background-color: white;}#sk-container-id-18 label.sk-toggleable__label {cursor: pointer;display: block;width: 100%;margin-bottom: 0;padding: 0.3em;box-sizing: border-box;text-align: center;}#sk-container-id-18 label.sk-toggleable__label-arrow:before {content: \"▸\";float: left;margin-right: 0.25em;color: #696969;}#sk-container-id-18 label.sk-toggleable__label-arrow:hover:before {color: black;}#sk-container-id-18 div.sk-estimator:hover label.sk-toggleable__label-arrow:before {color: black;}#sk-container-id-18 div.sk-toggleable__content {max-height: 0;max-width: 0;overflow: hidden;text-align: left;background-color: #f0f8ff;}#sk-container-id-18 div.sk-toggleable__content pre {margin: 0.2em;color: black;border-radius: 0.25em;background-color: #f0f8ff;}#sk-container-id-18 input.sk-toggleable__control:checked~div.sk-toggleable__content {max-height: 200px;max-width: 100%;overflow: auto;}#sk-container-id-18 input.sk-toggleable__control:checked~label.sk-toggleable__label-arrow:before {content: \"▾\";}#sk-container-id-18 div.sk-estimator input.sk-toggleable__control:checked~label.sk-toggleable__label {background-color: #d4ebff;}#sk-container-id-18 div.sk-label input.sk-toggleable__control:checked~label.sk-toggleable__label {background-color: #d4ebff;}#sk-container-id-18 input.sk-hidden--visually {border: 0;clip: rect(1px 1px 1px 1px);clip: rect(1px, 1px, 1px, 1px);height: 1px;margin: -1px;overflow: hidden;padding: 0;position: absolute;width: 1px;}#sk-container-id-18 div.sk-estimator {font-family: monospace;background-color: #f0f8ff;border: 1px dotted black;border-radius: 0.25em;box-sizing: border-box;margin-bottom: 0.5em;}#sk-container-id-18 div.sk-estimator:hover {background-color: #d4ebff;}#sk-container-id-18 div.sk-parallel-item::after {content: \"\";width: 100%;border-bottom: 1px solid gray;flex-grow: 1;}#sk-container-id-18 div.sk-label:hover label.sk-toggleable__label {background-color: #d4ebff;}#sk-container-id-18 div.sk-serial::before {content: \"\";position: absolute;border-left: 1px solid gray;box-sizing: border-box;top: 0;bottom: 0;left: 50%;z-index: 0;}#sk-container-id-18 div.sk-serial {display: flex;flex-direction: column;align-items: center;background-color: white;padding-right: 0.2em;padding-left: 0.2em;position: relative;}#sk-container-id-18 div.sk-item {position: relative;z-index: 1;}#sk-container-id-18 div.sk-parallel {display: flex;align-items: stretch;justify-content: center;background-color: white;position: relative;}#sk-container-id-18 div.sk-item::before, #sk-container-id-18 div.sk-parallel-item::before {content: \"\";position: absolute;border-left: 1px solid gray;box-sizing: border-box;top: 0;bottom: 0;left: 50%;z-index: -1;}#sk-container-id-18 div.sk-parallel-item {display: flex;flex-direction: column;z-index: 1;position: relative;background-color: white;}#sk-container-id-18 div.sk-parallel-item:first-child::after {align-self: flex-end;width: 50%;}#sk-container-id-18 div.sk-parallel-item:last-child::after {align-self: flex-start;width: 50%;}#sk-container-id-18 div.sk-parallel-item:only-child::after {width: 0;}#sk-container-id-18 div.sk-dashed-wrapped {border: 1px dashed gray;margin: 0 0.4em 0.5em 0.4em;box-sizing: border-box;padding-bottom: 0.4em;background-color: white;}#sk-container-id-18 div.sk-label label {font-family: monospace;font-weight: bold;display: inline-block;line-height: 1.2em;}#sk-container-id-18 div.sk-label-container {text-align: center;}#sk-container-id-18 div.sk-container {/* jupyter's `normalize.less` sets `[hidden] { display: none; }` but bootstrap.min.css set `[hidden] { display: none !important; }` so we also need the `!important` here to be able to override the default hidden behavior on the sphinx rendered scikit-learn.org. See: https://github.com/scikit-learn/scikit-learn/issues/21755 */display: inline-block !important;position: relative;}#sk-container-id-18 div.sk-text-repr-fallback {display: none;}</style><div id=\"sk-container-id-18\" class=\"sk-top-container\"><div class=\"sk-text-repr-fallback\"><pre>GridSearchCV(cv=3, estimator=RandomForestRegressor(random_state=21), n_jobs=-1,\n",
       "             param_grid={&#x27;max_depth&#x27;: [10, 20, 30],\n",
       "                         &#x27;min_samples_leaf&#x27;: [1, 2, 4],\n",
       "                         &#x27;min_samples_split&#x27;: [2, 5, 10],\n",
       "                         &#x27;n_estimators&#x27;: [100, 200, 300]},\n",
       "             scoring=&#x27;neg_mean_squared_error&#x27;)</pre><b>In a Jupyter environment, please rerun this cell to show the HTML representation or trust the notebook. <br />On GitHub, the HTML representation is unable to render, please try loading this page with nbviewer.org.</b></div><div class=\"sk-container\" hidden><div class=\"sk-item sk-dashed-wrapped\"><div class=\"sk-label-container\"><div class=\"sk-label sk-toggleable\"><input class=\"sk-toggleable__control sk-hidden--visually\" id=\"sk-estimator-id-34\" type=\"checkbox\" ><label for=\"sk-estimator-id-34\" class=\"sk-toggleable__label sk-toggleable__label-arrow\">GridSearchCV</label><div class=\"sk-toggleable__content\"><pre>GridSearchCV(cv=3, estimator=RandomForestRegressor(random_state=21), n_jobs=-1,\n",
       "             param_grid={&#x27;max_depth&#x27;: [10, 20, 30],\n",
       "                         &#x27;min_samples_leaf&#x27;: [1, 2, 4],\n",
       "                         &#x27;min_samples_split&#x27;: [2, 5, 10],\n",
       "                         &#x27;n_estimators&#x27;: [100, 200, 300]},\n",
       "             scoring=&#x27;neg_mean_squared_error&#x27;)</pre></div></div></div><div class=\"sk-parallel\"><div class=\"sk-parallel-item\"><div class=\"sk-item\"><div class=\"sk-label-container\"><div class=\"sk-label sk-toggleable\"><input class=\"sk-toggleable__control sk-hidden--visually\" id=\"sk-estimator-id-35\" type=\"checkbox\" ><label for=\"sk-estimator-id-35\" class=\"sk-toggleable__label sk-toggleable__label-arrow\">estimator: RandomForestRegressor</label><div class=\"sk-toggleable__content\"><pre>RandomForestRegressor(random_state=21)</pre></div></div></div><div class=\"sk-serial\"><div class=\"sk-item\"><div class=\"sk-estimator sk-toggleable\"><input class=\"sk-toggleable__control sk-hidden--visually\" id=\"sk-estimator-id-36\" type=\"checkbox\" ><label for=\"sk-estimator-id-36\" class=\"sk-toggleable__label sk-toggleable__label-arrow\">RandomForestRegressor</label><div class=\"sk-toggleable__content\"><pre>RandomForestRegressor(random_state=21)</pre></div></div></div></div></div></div></div></div></div></div>"
      ],
      "text/plain": [
       "GridSearchCV(cv=3, estimator=RandomForestRegressor(random_state=21), n_jobs=-1,\n",
       "             param_grid={'max_depth': [10, 20, 30],\n",
       "                         'min_samples_leaf': [1, 2, 4],\n",
       "                         'min_samples_split': [2, 5, 10],\n",
       "                         'n_estimators': [100, 200, 300]},\n",
       "             scoring='neg_mean_squared_error')"
      ]
     },
     "execution_count": 321,
     "metadata": {},
     "output_type": "execute_result"
    }
   ],
   "source": [
    "rfr_cv.fit(X_train, y_train)"
   ]
  },
  {
   "cell_type": "code",
   "execution_count": 322,
   "id": "d9fe997f-8201-4549-9cb4-768fc7c80e6e",
   "metadata": {},
   "outputs": [],
   "source": [
    "y_pred = rfr_cv.predict(X_test)"
   ]
  },
  {
   "cell_type": "code",
   "execution_count": 323,
   "id": "633ff579-d3d1-42b4-b429-02546d304ac6",
   "metadata": {},
   "outputs": [
    {
     "data": {
      "text/plain": [
       "1.2462858333333329"
      ]
     },
     "execution_count": 323,
     "metadata": {},
     "output_type": "execute_result"
    }
   ],
   "source": [
    "mean_absolute_error(y_pred, y_test)"
   ]
  },
  {
   "cell_type": "code",
   "execution_count": 324,
   "id": "aaa87b35-cc90-4a8d-ab3a-22096711acf7",
   "metadata": {},
   "outputs": [
    {
     "data": {
      "text/plain": [
       "2.516016317490742"
      ]
     },
     "execution_count": 324,
     "metadata": {},
     "output_type": "execute_result"
    }
   ],
   "source": [
    "mean_squared_error(y_pred, y_test)"
   ]
  },
  {
   "cell_type": "code",
   "execution_count": 325,
   "id": "4db7edc3-117d-4e4e-9586-df7d25f0dded",
   "metadata": {},
   "outputs": [
    {
     "data": {
      "text/plain": [
       "0.33941643570933033"
      ]
     },
     "execution_count": 325,
     "metadata": {},
     "output_type": "execute_result"
    }
   ],
   "source": [
    "r2_score(y_pred, y_test)"
   ]
  },
  {
   "cell_type": "code",
   "execution_count": 327,
   "id": "3cfd8798-5ea5-48c2-9aed-b51e934e73ab",
   "metadata": {},
   "outputs": [
    {
     "data": {
      "text/html": [
       "<table class=\"simpletable\">\n",
       "<caption>OLS Regression Results</caption>\n",
       "<tr>\n",
       "  <th>Dep. Variable:</th>          <td>Sales</td>      <th>  R-squared:         </th> <td>   0.872</td> \n",
       "</tr>\n",
       "<tr>\n",
       "  <th>Model:</th>                   <td>OLS</td>       <th>  Adj. R-squared:    </th> <td>   0.868</td> \n",
       "</tr>\n",
       "<tr>\n",
       "  <th>Method:</th>             <td>Least Squares</td>  <th>  F-statistic:       </th> <td>   183.7</td> \n",
       "</tr>\n",
       "<tr>\n",
       "  <th>Date:</th>             <td>Mon, 08 Jul 2024</td> <th>  Prob (F-statistic):</th> <td>5.42e-114</td>\n",
       "</tr>\n",
       "<tr>\n",
       "  <th>Time:</th>                 <td>14:05:43</td>     <th>  Log-Likelihood:    </th> <td> -405.12</td> \n",
       "</tr>\n",
       "<tr>\n",
       "  <th>No. Observations:</th>      <td>   280</td>      <th>  AIC:               </th> <td>   832.2</td> \n",
       "</tr>\n",
       "<tr>\n",
       "  <th>Df Residuals:</th>          <td>   269</td>      <th>  BIC:               </th> <td>   872.2</td> \n",
       "</tr>\n",
       "<tr>\n",
       "  <th>Df Model:</th>              <td>    10</td>      <th>                     </th>     <td> </td>    \n",
       "</tr>\n",
       "<tr>\n",
       "  <th>Covariance Type:</th>      <td>nonrobust</td>    <th>                     </th>     <td> </td>    \n",
       "</tr>\n",
       "</table>\n",
       "<table class=\"simpletable\">\n",
       "<tr>\n",
       "         <td></td>           <th>coef</th>     <th>std err</th>      <th>t</th>      <th>P>|t|</th>  <th>[0.025</th>    <th>0.975]</th>  \n",
       "</tr>\n",
       "<tr>\n",
       "  <th>CompPrice</th>      <td>    0.0927</td> <td>    0.005</td> <td>   18.437</td> <td> 0.000</td> <td>    0.083</td> <td>    0.103</td>\n",
       "</tr>\n",
       "<tr>\n",
       "  <th>Income</th>         <td>    0.0168</td> <td>    0.002</td> <td>    7.354</td> <td> 0.000</td> <td>    0.012</td> <td>    0.021</td>\n",
       "</tr>\n",
       "<tr>\n",
       "  <th>Advertising</th>    <td>    0.1200</td> <td>    0.013</td> <td>    9.099</td> <td> 0.000</td> <td>    0.094</td> <td>    0.146</td>\n",
       "</tr>\n",
       "<tr>\n",
       "  <th>Population</th>     <td>    0.0006</td> <td>    0.000</td> <td>    1.276</td> <td> 0.203</td> <td>   -0.000</td> <td>    0.001</td>\n",
       "</tr>\n",
       "<tr>\n",
       "  <th>Price</th>          <td>   -0.0975</td> <td>    0.003</td> <td>  -28.723</td> <td> 0.000</td> <td>   -0.104</td> <td>   -0.091</td>\n",
       "</tr>\n",
       "<tr>\n",
       "  <th>Age</th>            <td>   -0.0508</td> <td>    0.004</td> <td>  -12.772</td> <td> 0.000</td> <td>   -0.059</td> <td>   -0.043</td>\n",
       "</tr>\n",
       "<tr>\n",
       "  <th>Education</th>      <td>   -0.0211</td> <td>    0.024</td> <td>   -0.879</td> <td> 0.380</td> <td>   -0.068</td> <td>    0.026</td>\n",
       "</tr>\n",
       "<tr>\n",
       "  <th>Urban_Yes</th>      <td>    0.1607</td> <td>    0.139</td> <td>    1.159</td> <td> 0.247</td> <td>   -0.112</td> <td>    0.434</td>\n",
       "</tr>\n",
       "<tr>\n",
       "  <th>US_Yes</th>         <td>   -0.1811</td> <td>    0.185</td> <td>   -0.976</td> <td> 0.330</td> <td>   -0.546</td> <td>    0.184</td>\n",
       "</tr>\n",
       "<tr>\n",
       "  <th>ShelveLoc_rank</th> <td>    2.4939</td> <td>    0.093</td> <td>   26.932</td> <td> 0.000</td> <td>    2.312</td> <td>    2.676</td>\n",
       "</tr>\n",
       "<tr>\n",
       "  <th>intercept</th>      <td>    8.1695</td> <td>    0.734</td> <td>   11.137</td> <td> 0.000</td> <td>    6.725</td> <td>    9.614</td>\n",
       "</tr>\n",
       "</table>\n",
       "<table class=\"simpletable\">\n",
       "<tr>\n",
       "  <th>Omnibus:</th>       <td> 0.438</td> <th>  Durbin-Watson:     </th> <td>   1.902</td>\n",
       "</tr>\n",
       "<tr>\n",
       "  <th>Prob(Omnibus):</th> <td> 0.803</td> <th>  Jarque-Bera (JB):  </th> <td>   0.497</td>\n",
       "</tr>\n",
       "<tr>\n",
       "  <th>Skew:</th>          <td> 0.093</td> <th>  Prob(JB):          </th> <td>   0.780</td>\n",
       "</tr>\n",
       "<tr>\n",
       "  <th>Kurtosis:</th>      <td> 2.912</td> <th>  Cond. No.          </th> <td>4.13e+03</td>\n",
       "</tr>\n",
       "</table><br/><br/>Notes:<br/>[1] Standard Errors assume that the covariance matrix of the errors is correctly specified.<br/>[2] The condition number is large, 4.13e+03. This might indicate that there are<br/>strong multicollinearity or other numerical problems."
      ],
      "text/latex": [
       "\\begin{center}\n",
       "\\begin{tabular}{lclc}\n",
       "\\toprule\n",
       "\\textbf{Dep. Variable:}    &      Sales       & \\textbf{  R-squared:         } &     0.872   \\\\\n",
       "\\textbf{Model:}            &       OLS        & \\textbf{  Adj. R-squared:    } &     0.868   \\\\\n",
       "\\textbf{Method:}           &  Least Squares   & \\textbf{  F-statistic:       } &     183.7   \\\\\n",
       "\\textbf{Date:}             & Mon, 08 Jul 2024 & \\textbf{  Prob (F-statistic):} & 5.42e-114   \\\\\n",
       "\\textbf{Time:}             &     14:05:43     & \\textbf{  Log-Likelihood:    } &   -405.12   \\\\\n",
       "\\textbf{No. Observations:} &         280      & \\textbf{  AIC:               } &     832.2   \\\\\n",
       "\\textbf{Df Residuals:}     &         269      & \\textbf{  BIC:               } &     872.2   \\\\\n",
       "\\textbf{Df Model:}         &          10      & \\textbf{                     } &             \\\\\n",
       "\\textbf{Covariance Type:}  &    nonrobust     & \\textbf{                     } &             \\\\\n",
       "\\bottomrule\n",
       "\\end{tabular}\n",
       "\\begin{tabular}{lcccccc}\n",
       "                         & \\textbf{coef} & \\textbf{std err} & \\textbf{t} & \\textbf{P$> |$t$|$} & \\textbf{[0.025} & \\textbf{0.975]}  \\\\\n",
       "\\midrule\n",
       "\\textbf{CompPrice}       &       0.0927  &        0.005     &    18.437  &         0.000        &        0.083    &        0.103     \\\\\n",
       "\\textbf{Income}          &       0.0168  &        0.002     &     7.354  &         0.000        &        0.012    &        0.021     \\\\\n",
       "\\textbf{Advertising}     &       0.1200  &        0.013     &     9.099  &         0.000        &        0.094    &        0.146     \\\\\n",
       "\\textbf{Population}      &       0.0006  &        0.000     &     1.276  &         0.203        &       -0.000    &        0.001     \\\\\n",
       "\\textbf{Price}           &      -0.0975  &        0.003     &   -28.723  &         0.000        &       -0.104    &       -0.091     \\\\\n",
       "\\textbf{Age}             &      -0.0508  &        0.004     &   -12.772  &         0.000        &       -0.059    &       -0.043     \\\\\n",
       "\\textbf{Education}       &      -0.0211  &        0.024     &    -0.879  &         0.380        &       -0.068    &        0.026     \\\\\n",
       "\\textbf{Urban\\_Yes}      &       0.1607  &        0.139     &     1.159  &         0.247        &       -0.112    &        0.434     \\\\\n",
       "\\textbf{US\\_Yes}         &      -0.1811  &        0.185     &    -0.976  &         0.330        &       -0.546    &        0.184     \\\\\n",
       "\\textbf{ShelveLoc\\_rank} &       2.4939  &        0.093     &    26.932  &         0.000        &        2.312    &        2.676     \\\\\n",
       "\\textbf{intercept}       &       8.1695  &        0.734     &    11.137  &         0.000        &        6.725    &        9.614     \\\\\n",
       "\\bottomrule\n",
       "\\end{tabular}\n",
       "\\begin{tabular}{lclc}\n",
       "\\textbf{Omnibus:}       &  0.438 & \\textbf{  Durbin-Watson:     } &    1.902  \\\\\n",
       "\\textbf{Prob(Omnibus):} &  0.803 & \\textbf{  Jarque-Bera (JB):  } &    0.497  \\\\\n",
       "\\textbf{Skew:}          &  0.093 & \\textbf{  Prob(JB):          } &    0.780  \\\\\n",
       "\\textbf{Kurtosis:}      &  2.912 & \\textbf{  Cond. No.          } & 4.13e+03  \\\\\n",
       "\\bottomrule\n",
       "\\end{tabular}\n",
       "%\\caption{OLS Regression Results}\n",
       "\\end{center}\n",
       "\n",
       "Notes: \\newline\n",
       " [1] Standard Errors assume that the covariance matrix of the errors is correctly specified. \\newline\n",
       " [2] The condition number is large, 4.13e+03. This might indicate that there are \\newline\n",
       " strong multicollinearity or other numerical problems."
      ],
      "text/plain": [
       "<class 'statsmodels.iolib.summary.Summary'>\n",
       "\"\"\"\n",
       "                            OLS Regression Results                            \n",
       "==============================================================================\n",
       "Dep. Variable:                  Sales   R-squared:                       0.872\n",
       "Model:                            OLS   Adj. R-squared:                  0.868\n",
       "Method:                 Least Squares   F-statistic:                     183.7\n",
       "Date:                Mon, 08 Jul 2024   Prob (F-statistic):          5.42e-114\n",
       "Time:                        14:05:43   Log-Likelihood:                -405.12\n",
       "No. Observations:                 280   AIC:                             832.2\n",
       "Df Residuals:                     269   BIC:                             872.2\n",
       "Df Model:                          10                                         \n",
       "Covariance Type:            nonrobust                                         \n",
       "==================================================================================\n",
       "                     coef    std err          t      P>|t|      [0.025      0.975]\n",
       "----------------------------------------------------------------------------------\n",
       "CompPrice          0.0927      0.005     18.437      0.000       0.083       0.103\n",
       "Income             0.0168      0.002      7.354      0.000       0.012       0.021\n",
       "Advertising        0.1200      0.013      9.099      0.000       0.094       0.146\n",
       "Population         0.0006      0.000      1.276      0.203      -0.000       0.001\n",
       "Price             -0.0975      0.003    -28.723      0.000      -0.104      -0.091\n",
       "Age               -0.0508      0.004    -12.772      0.000      -0.059      -0.043\n",
       "Education         -0.0211      0.024     -0.879      0.380      -0.068       0.026\n",
       "Urban_Yes          0.1607      0.139      1.159      0.247      -0.112       0.434\n",
       "US_Yes            -0.1811      0.185     -0.976      0.330      -0.546       0.184\n",
       "ShelveLoc_rank     2.4939      0.093     26.932      0.000       2.312       2.676\n",
       "intercept          8.1695      0.734     11.137      0.000       6.725       9.614\n",
       "==============================================================================\n",
       "Omnibus:                        0.438   Durbin-Watson:                   1.902\n",
       "Prob(Omnibus):                  0.803   Jarque-Bera (JB):                0.497\n",
       "Skew:                           0.093   Prob(JB):                        0.780\n",
       "Kurtosis:                       2.912   Cond. No.                     4.13e+03\n",
       "==============================================================================\n",
       "\n",
       "Notes:\n",
       "[1] Standard Errors assume that the covariance matrix of the errors is correctly specified.\n",
       "[2] The condition number is large, 4.13e+03. This might indicate that there are\n",
       "strong multicollinearity or other numerical problems.\n",
       "\"\"\""
      ]
     },
     "execution_count": 327,
     "metadata": {},
     "output_type": "execute_result"
    }
   ],
   "source": [
    "e_model = sm.OLS(y_train, X_train)\n",
    "results = e_model.fit()\n",
    "results.summary()"
   ]
  },
  {
   "cell_type": "code",
   "execution_count": 326,
   "id": "117bf497-481c-452a-b216-990f9c44e7e3",
   "metadata": {},
   "outputs": [],
   "source": [
    "def predict(X, model):\n",
    "    # the built-in get_prediction tool returns an array, so we need to convert to a dataframe\n",
    "    predictions_df = pd.DataFrame(model.get_prediction(X).predicted, columns=['y_hat'], index=X.index)\n",
    "    return predictions_df['y_hat']\n",
    "\n",
    "def mse(y, y_hat):\n",
    "    # calculate the residual error for each individual record\n",
    "    resid = y - y_hat\n",
    "    # square the residual (hence \"squared error\")\n",
    "    sq_resid = resid**2\n",
    "    # calculate the sum of squared errors\n",
    "    SSR = sum(sq_resid)\n",
    "    # divide by the number of records to get the mean squared error\n",
    "    MSE = SSR / y.shape[0]\n",
    "    return MSE\n",
    "\n",
    "def gains_chart(actuals, predictions, num_buckets=10):\n",
    "    # Combine actuals and predictions into a single DataFrame\n",
    "    results = np.asarray([actuals, predictions]).T\n",
    "    # Sort by predictions descending\n",
    "    results = results[results[:,1].argsort()[::-1]]\n",
    "\n",
    "    # Calculate total number of instances and cumulative count\n",
    "    total_count = len(results)\n",
    "    cumulative_count = np.arange(1, total_count + 1) / total_count\n",
    "\n",
    "    # Calculate cumulative actuals\n",
    "    cumulative_actuals = np.cumsum(results[:,0])\n",
    "\n",
    "    # Calculate cumulative baseline (if predictions were randomly sorted)\n",
    "    baseline = np.arange(1, total_count + 1) * np.sum(actuals) / total_count\n",
    "\n",
    "    # Calculate gains\n",
    "    gains = cumulative_actuals / np.sum(actuals)\n",
    "\n",
    "    # Calculate AUC (Area Under the Gains Curve)\n",
    "    auc_score = auc(cumulative_count, gains)\n",
    "\n",
    "    # Plotting the gains chart\n",
    "    plt.figure(figsize=(10, 6))\n",
    "    plt.plot(cumulative_count, gains, marker='o', linestyle='-', color='b', label=f'Gains Curve (AUC = {auc_score:.2f})')\n",
    "    plt.plot([0, 1], [0, 1], linestyle='--', color='r', label='Baseline')\n",
    "    plt.title('Gains Chart for Regression Model')\n",
    "    plt.xlabel('Percentage of Population')\n",
    "    plt.ylabel('Cumulative Gains')\n",
    "    plt.legend()\n",
    "    plt.grid(True)\n",
    "    plt.tight_layout()\n",
    "    plt.show()\n",
    "\n",
    "    # Print AUC\n",
    "    print(f\"Area Under the Gains Curve (AUC): {auc_score:.4f}\")\n",
    "\n",
    "def lift_chart_regression(actuals, predictions, num_buckets=10):\n",
    "    # Create helper function for displaying lift charts\n",
    "    # Combine actuals and predictions into a single DataFrame\n",
    "    results = np.asarray([actuals, predictions]).T\n",
    "    # Sort by predictions descending\n",
    "    results = results[results[:,1].argsort()[::-1]]\n",
    "\n",
    "    # Calculate total number of instances and cumulative count\n",
    "    total_count = len(results)\n",
    "    cumulative_count = np.arange(1, total_count + 1) / total_count\n",
    "\n",
    "    # Calculate cumulative actuals\n",
    "    cumulative_actuals = np.cumsum(results[:,0])\n",
    "\n",
    "    # Calculate cumulative baseline (if predictions were randomly sorted)\n",
    "    baseline = np.arange(1, total_count + 1) * np.sum(actuals) / total_count\n",
    "\n",
    "    # Calculate lift\n",
    "    lift = cumulative_actuals / baseline\n",
    "\n",
    "    # Calculate cumulative lift\n",
    "    cumulative_lift = np.cumsum(lift)\n",
    "\n",
    "    # Plotting the lift chart\n",
    "    plt.figure(figsize=(10, 6))\n",
    "    plt.plot(cumulative_count, cumulative_lift, marker='o', linestyle='-', color='b', label='Lift Curve')\n",
    "    plt.plot([0, 1], [1, 1], linestyle='--', color='r', label='Baseline')\n",
    "    plt.title('Lift Chart for Regression Model')\n",
    "    plt.xlabel('Percentage of Population')\n",
    "    plt.ylabel('Lift')\n",
    "    plt.legend()\n",
    "    plt.grid(True)\n",
    "    plt.tight_layout()\n",
    "    plt.show()"
   ]
  },
  {
   "cell_type": "code",
   "execution_count": 328,
   "id": "b609b9e5-6a5f-4b5d-96e0-5adb66290f97",
   "metadata": {},
   "outputs": [],
   "source": [
    "e_model_test = sm.OLS(y_test, X_test)\n",
    "results = e_model_test.fit()"
   ]
  },
  {
   "cell_type": "code",
   "execution_count": 329,
   "id": "97a96dc2-5142-4ca5-81cb-9859dec7ee36",
   "metadata": {},
   "outputs": [
    {
     "name": "stdout",
     "output_type": "stream",
     "text": [
      "mse train: 1.0574005848100856\n",
      "mse test: 0.9846784288782763\n"
     ]
    }
   ],
   "source": [
    "results_train = e_model.fit()\n",
    "\n",
    "predict_train = predict(X_train, results_train)\n",
    "print('mse train:', mse(y_train, predict_train))\n",
    "\n",
    "results_test = e_model_test.fit()\n",
    "predict_test = predict(X_test, results_test)\n",
    "print('mse test:', mse(y_test, predict_test))"
   ]
  },
  {
   "cell_type": "code",
   "execution_count": 330,
   "id": "ec4aafb0-044c-4ebf-bee4-f73385b62394",
   "metadata": {},
   "outputs": [
    {
     "data": {
      "image/png": "[encoded data removed]",
      "text/plain": [
       "<Figure size 1000x600 with 1 Axes>"
      ]
     },
     "metadata": {},
     "output_type": "display_data"
    },
    {
     "name": "stdout",
     "output_type": "stream",
     "text": [
      "Area Under the Gains Curve (AUC): 0.5985\n"
     ]
    }
   ],
   "source": [
    "gains_chart(y_train, predict_train)"
   ]
  },
  {
   "cell_type": "code",
   "execution_count": 331,
   "id": "a0ff3dd8-be8c-4713-b8ed-6c0e54f0bf62",
   "metadata": {},
   "outputs": [
    {
     "data": {
      "image/png": "[encoded data removed]",
      "text/plain": [
       "<Figure size 1000x600 with 1 Axes>"
      ]
     },
     "metadata": {},
     "output_type": "display_data"
    },
    {
     "name": "stdout",
     "output_type": "stream",
     "text": [
      "Area Under the Gains Curve (AUC): 0.5944\n"
     ]
    }
   ],
   "source": [
    "gains_chart(y_test, predict_test)"
   ]
  },
  {
   "cell_type": "code",
   "execution_count": 332,
   "id": "aa8d0e38-5c67-44dd-9b8e-2d330b622548",
   "metadata": {},
   "outputs": [
    {
     "data": {
      "image/png": "[encoded data removed]",
      "text/plain": [
       "<Figure size 1000x600 with 1 Axes>"
      ]
     },
     "metadata": {},
     "output_type": "display_data"
    }
   ],
   "source": [
    "lift_chart_regression(y_train, predict_train)"
   ]
  },
  {
   "cell_type": "code",
   "execution_count": 333,
   "id": "451eb25e-f588-452c-8c5f-0b7f5b430716",
   "metadata": {},
   "outputs": [
    {
     "data": {
      "image/png": "[encoded data removed]",
      "text/plain": [
       "<Figure size 1000x600 with 1 Axes>"
      ]
     },
     "metadata": {},
     "output_type": "display_data"
    }
   ],
   "source": [
    "lift_chart_regression(y_test, predict_test)"
   ]
  },
  {
   "cell_type": "code",
   "execution_count": null,
   "id": "06dad42f-9350-44c3-b128-11bd06661d55",
   "metadata": {},
   "outputs": [],
   "source": []
  }
 ],
 "metadata": {
  "kernelspec": {
   "display_name": "Python 3 (ipykernel)",
   "language": "python",
   "name": "python3"
  },
  "language_info": {
   "codemirror_mode": {
    "name": "ipython",
    "version": 3
   },
   "file_extension": ".py",
   "mimetype": "text/x-python",
   "name": "python",
   "nbconvert_exporter": "python",
   "pygments_lexer": "ipython3",
   "version": "3.11.7"
  }
 },
 "nbformat": 4,
 "nbformat_minor": 5
}
